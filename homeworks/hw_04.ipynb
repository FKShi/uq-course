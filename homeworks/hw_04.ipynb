{
 "cells": [
  {
   "cell_type": "markdown",
   "metadata": {},
   "source": [
    "# Homework 4\n",
    "\n",
    "**Due: 03/01/2018** (Thursday 1st March at 11:59pm).\n",
    "\n",
    "## Instructions\n",
    "\n",
    "+ In any case, develop the code and generate the figures you need to solve the problems using this notebook.\n",
    "+ For the answers that require a mathematical proof or derivation you can either:\n",
    "    \n",
    "    - Type the answer using the built-in latex capabilities. In this case, simply export the notebook as a pdf and upload it on gradescope; or\n",
    "    - you can print the notebook (after you are done with all the code), write your answers by hand, scan, turn your response to a single pdf, and upload on gradescope. \n",
    "\n",
    "+ The total homework points are 100. Please note that the problems are not weighed equally.\n",
    "\n",
    "**Note**: Please match all the pages corresponding to each of the questions when you submit on gradescope. \n",
    "\n",
    "## Student details\n",
    "\n",
    "+ **First Name:**\n",
    "+ **Last Name:**\n",
    "+ **Email:**\n",
    "\n",
    "## Readings\n",
    "\n",
    "Before attempting the homework, it is probably a good idea to:\n",
    "+ Read chapter 1, 2 of [Rasmussen](http://www.gaussianprocess.org/gpml/chapters/);\n",
    "+ Review the slides of lectures 10, 11, & 12; and\n",
    "+ Review the corresponding lecture handouts."
   ]
  },
  {
   "cell_type": "markdown",
   "metadata": {},
   "source": [
    "## Problem 1 - The Mauna Loa CO$_2$ data set"
   ]
  },
  {
   "cell_type": "markdown",
   "metadata": {},
   "source": [
    "The National Oceanic and Atmospheric Administration (NOAA) has been measuring the levels of atmospheric CO2 at the Mauna Loa, Hawaii. The measurements start on March 1958 and go all the way to Janurary 2016.\n",
    "The data can be found [here](http://www.esrl.noaa.gov/gmd/ccgg/trends/data.html).\n",
    "The Python script below, downloads and plots the data set."
   ]
  },
  {
   "cell_type": "code",
   "execution_count": null,
   "metadata": {
    "collapsed": true
   },
   "outputs": [],
   "source": [
    "import numpy as np\n",
    "import matplotlib.pyplot as plt\n",
    "import seaborn as sns\n",
    "sns.set()\n",
    "import GPy\n",
    "%matplotlib inline"
   ]
  },
  {
   "cell_type": "code",
   "execution_count": null,
   "metadata": {
    "collapsed": true
   },
   "outputs": [],
   "source": [
    "#load data \n",
    "data = np.loadtxt('mauna_loa_co2.txt')\n",
    "t = data[:, 2][:, None]  #time (in decimal dates)\n",
    "y = data[:, 4][:, None]  #CO2 level (mole fraction in dry air, micromol/mol, abbreviated as ppm)\n",
    "fig, ax = plt.subplots(1, figsize = (15, 10))\n",
    "ax.plot(t, y)\n",
    "ax.set_xlabel('$t$', fontsize = 16)\n",
    "ax.set_ylabel('$y$', fontsize = 16)"
   ]
  },
  {
   "cell_type": "markdown",
   "metadata": {},
   "source": [
    "Overall, we observe a steady growth of CO2 levels. The wiggles correspond to seasonal changes. Since the vast majority of the population inhabits the Northen hemisphere, fuel consumption goes up during the Northen winters. Our goal is to study this data set with the regression techniques we learned in class. Specifically we would like to provide an answer to the following task.\n",
    "+ **Task 1** Predict the evolution of the CO2 levels from Feb 2018 to Feb 2028 (ten years from now).\n",
    "+ **Task 2**  Quantify our uncertainty about this prediction."
   ]
  },
  {
   "cell_type": "markdown",
   "metadata": {},
   "source": [
    "### Part  A "
   ]
  },
  {
   "cell_type": "markdown",
   "metadata": {},
   "source": [
    "Use any Bayesian linear regression technique discussed in class to construct a map between $t$ and $y$. State clearly which basis functions you use and why. We suggest you use automatic relevance determination (ARD) as implemented in [scikitlearn](http://scikit-learn.org/stable/modules/generated/sklearn.linear_model.ARDRegression.html).\n",
    "\n",
    "The choice of the candidate basis functions is completely up to you. We expect you to justify your choices and interpret your findings. E.g., \"I picked these basis functions because I expected this to happen\", or \"ARD finally selected these basis functions and this can be interpreted as this and that.\" "
   ]
  },
  {
   "cell_type": "markdown",
   "metadata": {},
   "source": [
    "*Enter your model description/solution here. Delete that ``<br>`` line (it just makes some white space). Insert any additional code blocks / cells necessary for your answer.* \n",
    "<br><br><br><br><br><br><br><br><br><br> "
   ]
  },
  {
   "cell_type": "markdown",
   "metadata": {},
   "source": [
    "### Part B"
   ]
  },
  {
   "cell_type": "markdown",
   "metadata": {},
   "source": [
    "In this problem you have to do exactly the same as in problem 1, but using Gaussian process regression using ``GPy``. "
   ]
  },
  {
   "cell_type": "markdown",
   "metadata": {},
   "source": [
    "*Enter your model description/solution here. Delete that ``<br>`` line (it just makes some white space). Insert any additional code blocks / cells necessary for your answer.* \n",
    "<br><br><br><br><br><br><br><br><br><br> "
   ]
  },
  {
   "cell_type": "markdown",
   "metadata": {},
   "source": [
    "## Problem 2 - Stochastic model for permeability of oil reservoir"
   ]
  },
  {
   "cell_type": "markdown",
   "metadata": {},
   "source": [
    "The permeability of the soil is one of the largest unknowns in modeling underground flows. Here, you will create a 2D model of permeability that can be used for propagating uncertainties or as a starting point for model calibration. This is the information that is available to you:\n",
    "+ You need to build a stochastic model for permeability with as low dimensionality as possible.\n",
    "+ You need to be able to sample random permeability fields from this model.\n",
    "+ The permeability is strictly positive.\n",
    "+ The 2D domain you should consider is $[0, 356]\\times[0,670]$ (in meters).\n",
    "+ Our geologist gave us her best estimate about the permeability field. We have put the results for you in a data file and we show you how to load it and plot it below.\n",
    "+ When asked how sure she is about the prediction, the geologist gave a standard deviation of about 3.2 on the logarithm of the permeability.\n",
    "+ She also believes that there are two lengthscales: 50 meters and 10 meters."
   ]
  },
  {
   "cell_type": "markdown",
   "metadata": {},
   "source": [
    "Do the following:\n",
    "\n",
    "a. Write down the mathematical form of the best stochastic model for the permeability you can come up with using the information above. Are you going to use a GP? Are you going to consider a transformed version of the GP? What would the mean be? What would the covariance function be? What would the parameters of the covariance function be?\n",
    "\n",
    "b. Construct the Karhunen-Loeve expansion of the field using the code provided in lecture 12. You should: 1) use enough quadrature points so that you get a converged Nystrom approximation; 2) use enough terms to cover $95\\%$ of the fields energy; 3) Plot the egenvalues of KLE; 4) Plot the first six eigenfunctions of KLE; 5) Plot six samples of the random field.\n",
    "\n",
    "c. You sent a crew to go and make some measurements of the permeability. Repeate everything you did in b. making use of the new data:\n",
    " \n",
    "\n",
    "|$x_1$ |$x_2$ | $\\log K(x_1, x_2)$ |\n",
    "|------|------|--------------------|\n",
    "|100.  |200.  | -13.2              |\n",
    "|300.  |500.  | -25.3              |\n",
    " \n",
    "Here is the mean field provided by the geologist:"
   ]
  },
  {
   "cell_type": "code",
   "execution_count": 1,
   "metadata": {},
   "outputs": [
    {
     "data": {
      "text/plain": [
       "Text(0,0.5,u'$x_2$')"
      ]
     },
     "execution_count": 1,
     "metadata": {},
     "output_type": "execute_result"
    }
   ],
   "source": [
    "K = np.loadtxt('spe10_permx.dat').T\n",
    "x1 = np.linspace(0, 356, 60)\n",
    "x2 = np.linspace(0, 670, 220)\n",
    "X1, X2 = np.meshgrid(x1, x2)\n",
    "fig, ax = plt.subplots(1, figsize = (10, 10))\n",
    "im=ax.contourf(X1, X2, np.log(K), 100, cmap = 'magma')\n",
    "fig.colorbar(im, ax=ax)\n",
    "ax.set_xlabel('$x_1$', fontsize = 16)\n",
    "ax.set_ylabel('$x_2$', fontsize = 16)"
   ]
  },
  {
   "cell_type": "code",
   "execution_count": null,
   "metadata": {
    "collapsed": true
   },
   "outputs": [],
   "source": []
  }
 ],
 "metadata": {
  "kernelspec": {
   "display_name": "Python 2",
   "language": "python",
   "name": "python2"
  },
  "language_info": {
   "codemirror_mode": {
    "name": "ipython",
    "version": 2
   },
   "file_extension": ".py",
   "mimetype": "text/x-python",
   "name": "python",
   "nbconvert_exporter": "python",
   "pygments_lexer": "ipython2",
   "version": "2.7.14"
  }
 },
 "nbformat": 4,
 "nbformat_minor": 2
}
