{
 "cells": [
  {
   "cell_type": "markdown",
   "metadata": {},
   "source": [
    "# Lecture 12 - Dimensionality Reduction of Gaussian Random Fields"
   ]
  },
  {
   "cell_type": "markdown",
   "metadata": {},
   "source": [
    "## Objectives\n",
    "\n",
    "+ to reduce the dimensionality of a Gaussian random field\n",
    "+ to build a Gaussian random field from data\n",
    "+ to efficient implementation of Gaussian random fields in two and three dimensions"
   ]
  },
  {
   "cell_type": "markdown",
   "metadata": {},
   "source": [
    "# Readings\n",
    "There is not really an easy way into this topic, but here are some references in case you are interested:\n",
    "+ Ghanem, Roger; Spanos, Pol (1991). Stochastic finite elements: a spectral approach. Springer-Verlag. ISBN 0-387-97456-3.\n",
    "+ Betz, W., Papaioannou, I., & Straub, D. (2014). Numerical methods for the discretization of random fields by means of the Karhunen-Loeve expansion. Computer Methods in Applied Mechanics and Engineering, 271, 109-129. doi:10.1016/j.cma.2013.12.010"
   ]
  },
  {
   "cell_type": "markdown",
   "metadata": {},
   "source": [
    "## Karhunen-Loeve Expansion\n",
    "\n",
    "Consider a Gaussian process:\n",
    "\\begin{equation}\n",
    "f(\\cdot) | m(\\cdot), k(\\cdot, \\cdot) \\sim \\mbox{GP}\\left(f(\\cdot) | m(\\cdot), k(\\cdot, \\cdot) \\right),\n",
    "\\end{equation}\n",
    "where \n",
    "$m(\\cdot)$ is the mean function and \n",
    "$k(\\cdot,\\cdot)$ is the covariance function.\n",
    "The *Karhunen-Loève expansion* (KLE) of $f(\\cdot)$ allows us to write it as:\n",
    "\\begin{equation}\n",
    "f(\\mathbf{x}) = m(\\mathbf{x}) + \\sum_{i=1}^{\\infty}\\xi_i \\sqrt{\\lambda_i} \\phi_i(\\mathbf{x}),\n",
    "\\end{equation}\n",
    "where the random variables\n",
    "\\begin{equation}\n",
    "\\xi \\sim \\mathcal{N}(\\xi|0, 1)\n",
    "\\end{equation}\n",
    "are independent, and $\\lambda_i$ and $\\phi_i(\\mathbf{x})$ are the eigenvalues and\n",
    "eigenvectors, respectively, of the covariance function, i.e.,\n",
    "\\begin{equation}\n",
    "\\int k(\\mathbf{x}, \\mathbf{x}') \\phi_i(\\mathbf{x}')d\\mathbf{x}' = \\lambda_i \\phi_i(\\mathbf{x}').\n",
    "\\end{equation}\n",
    "Since $k(\\cdot, \\cdot)$ is actually positive definite, the eigenvalues are all positive\n",
    "and the eigenfunctions are orthogonal:\n",
    "$$\n",
    "\\int \\phi_i(\\mathbf{x})\\phi_j(\\mathbf{x}')d\\mathbf{x} = \\delta_{ij}.\n",
    "$$"
   ]
  },
  {
   "cell_type": "markdown",
   "metadata": {},
   "source": [
    "### Truncated KLE\n",
    "Usually, we truncate the KLE to a finite order $M$, i.e., we write\n",
    "\\begin{equation}\n",
    "f(\\mathbf{x}) \\approx f_M(\\mathbf{x}) = m(\\mathbf{x}) + \\sum_{i=1}^M \\xi_i \\sqrt{\\lambda_i}\\phi_i(\\mathbf{x}).\n",
    "\\end{equation}\n",
    "But how do we pick $M$ in practice?\n",
    "\n",
    "In order to answer this question, notice that the variance of the field at the point $\\mathbf{x}$ is given by:\n",
    "$$\n",
    "\\mathbf{V}[f(\\mathbf{x})] = \\sum_{i=1}^{\\infty}\\lambda_i\\phi_i^2(\\mathbf{x})\n",
    "$$\n",
    "The *energy* of the field, $\\mathcal{E}[f(\\cdot)]$ is defined to be:\n",
    "\\begin{equation}\n",
    "\\mathcal{E}[f(\\cdot)] := \\int\\mathbb{V}[f(\\mathbf{x})]d\\mathbf{x} = \\sum_{i=1}^\\infty \\lambda_i,\n",
    "\\end{equation}\n",
    "where we have used the orthonormality of the $\\phi(\\cdot)$'s.\n",
    "The energy of the field is a measure of the total variance of the field.\n",
    "The idea is to select $M$ so that the energy of the truncated field $f_M(\\cdot)$ is as\n",
    "captures a percentage $\\alpha$ of the energy of the original field.\n",
    "That is, we pick $M$ so that\n",
    "$$\n",
    "\\mathcal{E}[f_M(\\cdot)] = \\alpha\\mathcal{E}[f(\\cdot)],\n",
    "$$\n",
    "or\n",
    "$$\n",
    "\\sum_{i=1}^M\\lambda_i = \\alpha \\sum_{i=1}^\\infty \\lambda_i.\n",
    "$$\n",
    "Typically, $\\alpha = 0.95$."
   ]
  },
  {
   "cell_type": "markdown",
   "metadata": {},
   "source": [
    "### Why is this useful?\n",
    "The KLE allows us to reduce the dimensionality of random fields.\n",
    "This is extremely useful in uncertainty propagation and model calibration tasks.\n",
    "For example, in uncertainty propagation, by employing the KLE one has to deal with\n",
    "a finite set of Gaussian random variables $\\xi_i$ instead of an infinitely dimensional\n",
    "Gaussian random field."
   ]
  },
  {
   "cell_type": "code",
   "execution_count": null,
   "metadata": {},
   "outputs": [],
   "source": [
    "import numpy as np\n",
    "import scipy\n",
    "\n",
    "class KarhunenLoeveExpansion(object):\n",
    "    \n",
    "    \"\"\"\n",
    "    A class representing the Karhunen Loeve Expansion of a Gaussian random field.\n",
    "    It uses the Nystrom approximation to do it.\n",
    "    \n",
    "    Arguments:\n",
    "        k      -     The covariance function.\n",
    "        Xq     -     Quadrature points for the Nystrom approximation.\n",
    "        wq     -     Quadrature weights for the Nystrom approximation.\n",
    "        alpha  -     The percentage of the energy of the field that you want to keep.\n",
    "        X      -     Observed inputs (optional).\n",
    "        Y      -     Observed field values (optional).\n",
    "    \"\"\"\n",
    "    \n",
    "    def __init__(self, k, Xq=None, wq=None, nq=100, alpha=0.9, X=None, Y=None):\n",
    "        self.k = k\n",
    "        if Xq is None:\n",
    "            if k.input_dim == 1:\n",
    "                Xq = np.linspace(0, 1, nq)[:, None]\n",
    "                wq = np.ones((nq, )) / nq\n",
    "            elif k.input_dim == 2:\n",
    "                nq = int(np.sqrt(nq))\n",
    "                x = np.linspace(0, 1, nq)\n",
    "                X1, X2 = np.meshgrid(x, x)\n",
    "                Xq = np.hstack([X1.flatten()[:, None], X2.flatten()[:, None]])\n",
    "                wq = np.ones((nq ** 2, )) / nq ** 2\n",
    "            else:\n",
    "                raise NotImplementedError('For more than 2D, please supply quadrature points and weights.')\n",
    "        self.Xq = Xq\n",
    "        self.wq = wq\n",
    "        self.k = k\n",
    "        self.alpha = alpha\n",
    "        self.X = X\n",
    "        self.Y = Y\n",
    "        # If we have some observed data, we need to use the posterior covariance\n",
    "        if X is not None:\n",
    "            gpr = GPy.models.GPRegression(X, Y[:, None], k)\n",
    "            gpr.likelihood.variance = 1e-12\n",
    "            self.gpr = gpr\n",
    "            Kq = gpr.predict(Xq, full_cov=True)[1]\n",
    "        else:\n",
    "            Kq = k.K(Xq)\n",
    "        B = np.einsum('ij,j->ij', Kq, wq)\n",
    "        lam, v = scipy.linalg.eigh(B, overwrite_a=True)\n",
    "        lam = lam[::-1]\n",
    "        lam[lam <= 0.] = 0.\n",
    "        energy = np.cumsum(lam) / np.sum(lam)\n",
    "        i_end = np.arange(energy.shape[0])[energy > alpha][0] + 1\n",
    "        lam = lam[:i_end]\n",
    "        v = v[:, ::-1]\n",
    "        v = v[:, :i_end]\n",
    "        self.lam = lam\n",
    "        self.sqrt_lam = np.sqrt(lam)\n",
    "        self.v = v\n",
    "        self.energy = energy\n",
    "        self.num_xi = i_end\n",
    "        \n",
    "    def eval_phi(self, x):\n",
    "        \"\"\"\n",
    "        Evaluate the eigenfunctions at x.\n",
    "        \"\"\"\n",
    "        if self.X is not None:\n",
    "            nq = self.Xq.shape[0]\n",
    "            Xf = np.vstack([self.Xq, x])\n",
    "            m, C = self.gpr.predict(Xf, full_cov=True)\n",
    "            Kc = C[:nq, nq:].T\n",
    "            self.tmp_mu = m[nq:, :].flatten()\n",
    "        else:\n",
    "            Kc = self.k.K(x, self.Xq)\n",
    "            self.tmp_mu = 0.\n",
    "        phi = np.einsum(\"i,ji,j,rj->ri\", 1. / self.lam, self.v, self.wq**0.5, Kc)\n",
    "        return phi\n",
    "    \n",
    "    def __call__(self, x, xi):\n",
    "        \"\"\"\n",
    "        Evaluate the expansion at x and xi.\n",
    "        \"\"\"\n",
    "        phi = self.eval_phi(x)\n",
    "        return self.tmp_mu + np.dot(phi, xi * self.sqrt_lam)"
   ]
  },
  {
   "cell_type": "markdown",
   "metadata": {},
   "source": [
    "Let's just plot the eigenfunctions/values of the square exponential covariance function:"
   ]
  },
  {
   "cell_type": "code",
   "execution_count": null,
   "metadata": {},
   "outputs": [],
   "source": [
    "import matplotlib.pyplot as plt\n",
    "%matplotlib inline\n",
    "import seaborn as sns\n",
    "import GPy\n",
    "k = GPy.kern.RBF(1, lengthscale=0.1)\n",
    "kle = KarhunenLoeveExpansion(k, nq=5, alpha=.9)\n",
    "x = np.linspace(0, 1, 100)[:, None]\n",
    "fig, ax = plt.subplots()\n",
    "ax.plot(x, kle.eval_phi(x))\n",
    "ax.set_xlabel('$x$')\n",
    "ax.set_ylabel('$\\phi_i(x)$')\n",
    "fig, ax = plt.subplots()\n",
    "ax.plot(kle.lam)\n",
    "ax.set_xlabel('$i$')\n",
    "ax.set_ylabel('$\\lambda_i$');"
   ]
  },
  {
   "cell_type": "markdown",
   "metadata": {},
   "source": [
    "### Questions\n",
    "\n",
    "1. The estimated eigenfunctions and eigenvalues do not look very accurate. Perhaps, you need to increase the number of quadrature points used in the Nystrom approximation. Try ``nq=20``. How do they look now?\n",
    "\n",
    "2. How are the eigenvalues of the covariance function affected if you decrease the lengthscale?\n",
    "\n",
    "3. The default variance of the square exponential is one. Try changing it to 2. What changed, if anything?\n",
    "\n",
    "4. Experiment with different covariance functions, e.g., the ``Exponential`` or the ``Matern32``."
   ]
  },
  {
   "cell_type": "markdown",
   "metadata": {},
   "source": [
    "### Varying the lengthscale\n",
    "Let's vary the lengthscale of the SE and see what happens to the eigenvalues."
   ]
  },
  {
   "cell_type": "code",
   "execution_count": null,
   "metadata": {},
   "outputs": [],
   "source": [
    "x = np.linspace(0, 1, 100)[:, None]\n",
    "fig, ax = plt.subplots()\n",
    "for ell in [0.01, 0.05, 0.1, 0.2, 0.5]:\n",
    "    k = GPy.kern.RBF(1, lengthscale=ell)\n",
    "    kle = KarhunenLoeveExpansion(k, nq=100, alpha=.9)\n",
    "    ax.plot(kle.lam[:5], '-x', markersize=5, markeredgewidth=2, label='$\\ell={0:1.2f}$'.format(ell))\n",
    "plt.legend(loc='best')\n",
    "ax.set_xlabel('$i$')\n",
    "ax.set_ylabel('$\\lambda_i$');"
   ]
  },
  {
   "cell_type": "markdown",
   "metadata": {},
   "source": [
    "### Sampling from the random field using $\\xi$"
   ]
  },
  {
   "cell_type": "code",
   "execution_count": null,
   "metadata": {},
   "outputs": [],
   "source": [
    "k = GPy.kern.Exponential(1, lengthscale=0.1)\n",
    "kle = KarhunenLoeveExpansion(k, nq=100, alpha=0.8)\n",
    "x = np.linspace(0, 1, 100)[:, None]\n",
    "fig, ax = plt.subplots()\n",
    "for i in xrange(3):\n",
    "    xi = np.random.randn(kle.num_xi)\n",
    "    f = kle(x, xi)\n",
    "    plt.plot(x, f, color=sns.color_palette()[0])"
   ]
  },
  {
   "cell_type": "markdown",
   "metadata": {},
   "source": [
    "### Questions\n",
    "1. Above we show the samples that we get from the KLT using an exponential covariance function.\n",
    "They look too smooth. The samples are supposed to be non-where differentiable. What is the problem?\n",
    "2. How many terms did you need to get samples that really look like samples from an exponential GP?"
   ]
  },
  {
   "cell_type": "markdown",
   "metadata": {},
   "source": [
    "### KLE for GP with Observed Data\n",
    "Here we take a look at the KLE of a GP where we have made some input/output observations"
   ]
  },
  {
   "cell_type": "code",
   "execution_count": null,
   "metadata": {},
   "outputs": [],
   "source": [
    "# Just generate some input/output pairs randomly...\n",
    "np.random.seed(12345)\n",
    "X = np.random.rand(3, 1)\n",
    "Y = np.random.randn(3)\n",
    "# X and Y are assumed to be observed\n",
    "\n",
    "k = GPy.kern.RBF(1, lengthscale=0.1)\n",
    "kle = KarhunenLoeveExpansion(k, nq=100, alpha=0.9, X=X, Y=Y)\n",
    "x = np.linspace(0, 1, 100)[:, None]\n",
    "fig, ax = plt.subplots()\n",
    "ax.plot(x, kle.eval_phi(x))\n",
    "ax.set_xlabel('$x$')\n",
    "ax.set_ylabel('$\\phi_i(x)$')\n",
    "fig, ax = plt.subplots()\n",
    "ax.plot(X, Y, 'kx', markeredgewidth=2)\n",
    "for i in xrange(3):\n",
    "    xi = np.random.randn(kle.num_xi)\n",
    "    f = kle(x, xi)\n",
    "    plt.plot(x, f, color=sns.color_palette()[0])"
   ]
  },
  {
   "cell_type": "markdown",
   "metadata": {},
   "source": [
    "### Questions\n",
    "1. What is the value of the basis functions at the points where we have observations?\n",
    "2. Experiment with various covariance functions and hyper-parameters."
   ]
  },
  {
   "cell_type": "markdown",
   "metadata": {},
   "source": [
    "### Playing in two-dimensions\n",
    "Let's experiment with these ideas in two dimensions."
   ]
  },
  {
   "cell_type": "code",
   "execution_count": null,
   "metadata": {},
   "outputs": [],
   "source": [
    "k = GPy.kern.RBF(2, lengthscale=0.1)\n",
    "#X = np.random.rand(3, 2)\n",
    "#Y = np.random.randn(3)\n",
    "kle = KarhunenLoeveExpansion(k, nq=100, alpha=0.9)#, X=X, Y=Y)\n",
    "x = np.linspace(0, 1, 32)\n",
    "X1, X2 = np.meshgrid(x, x)\n",
    "X_all = np.hstack([X1.flatten()[:, None], X2.flatten()[:, None]])\n",
    "print 'Number of terms:', kle.num_xi\n",
    "# Let's look at them\n",
    "Phi = kle.eval_phi(X_all)\n",
    "for i in xrange(5):\n",
    "    fig, ax = plt.subplots()\n",
    "    c = ax.contourf(X1, X2, Phi[:, i].reshape(X1.shape))\n",
    "    #ax.plot(X[:, 0], X[:, 1], 'rx', markeredgewidth=2)\n",
    "    plt.colorbar(c)"
   ]
  },
  {
   "cell_type": "markdown",
   "metadata": {},
   "source": [
    "### Questions\n",
    "1. Try plotting some eigenfunctions with higher index.\n",
    "2. Try adding some observations.\n",
    "3. Now, that you are getting familar, try to plot a few samples from this random field."
   ]
  },
  {
   "cell_type": "code",
   "execution_count": null,
   "metadata": {
    "collapsed": true
   },
   "outputs": [],
   "source": []
  }
 ],
 "metadata": {
  "anaconda-cloud": {},
  "kernelspec": {
   "display_name": "Python 2",
   "language": "python",
   "name": "python2"
  },
  "language_info": {
   "codemirror_mode": {
    "name": "ipython",
    "version": 2
   },
   "file_extension": ".py",
   "mimetype": "text/x-python",
   "name": "python",
   "nbconvert_exporter": "python",
   "pygments_lexer": "ipython2",
   "version": "2.7.14"
  },
  "latex_envs": {
   "bibliofile": "biblio.bib",
   "cite_by": "apalike",
   "current_citInitial": 1,
   "eqLabelWithNumbers": true,
   "eqNumInitial": 0
  }
 },
 "nbformat": 4,
 "nbformat_minor": 2
}
