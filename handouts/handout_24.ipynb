{
 "cells": [
  {
   "cell_type": "markdown",
   "metadata": {},
   "source": [
    "# Lecture 24 - Bayesian Model Selection using Sequential Monte Carlo"
   ]
  },
  {
   "cell_type": "markdown",
   "metadata": {},
   "source": [
    "## Objectives\n",
    "\n",
    "+ Compute the model evidence using [pysmc](https://github.com/PredictiveScienceLab/pysmc).\n",
    "+ Do model selection with [pysmc](https://github.com/PredictiveScienceLab/pysmc)."
   ]
  },
  {
   "cell_type": "code",
   "execution_count": 3,
   "metadata": {},
   "outputs": [],
   "source": [
    "import numpy as np\n",
    "import math\n",
    "import scipy.stats as st\n",
    "import scipy\n",
    "import matplotlib as mpl\n",
    "import matplotlib.pyplot as plt\n",
    "%matplotlib inline\n",
    "mpl.rcParams['figure.dpi'] = 300\n",
    "import seaborn as sns\n",
    "sns.set_style('white')\n",
    "sns.set_context('talk')\n",
    "#import design\n",
    "#import orthpol\n",
    "import warnings\n",
    "warnings.filterwarnings('ignore')\n",
    "#from tqdm import tqdm # pip install tqdm (or conda)\n",
    "import sklearn\n",
    "import pymc as pm\n",
    "import pysmc as ps\n",
    "\n",
    "\n",
    "# We need a generic function that computes the design matrix\n",
    "def compute_design_matrix(X, phi):\n",
    "    \"\"\"\n",
    "    Arguments:\n",
    "    \n",
    "    X   -  The observed inputs (1D array)\n",
    "    phi -  The basis functions.\n",
    "    \"\"\"\n",
    "    num_observations = X.shape[0]\n",
    "    num_basis = phi.num_basis\n",
    "    Phi = np.ndarray((num_observations, num_basis))\n",
    "    for i in xrange(num_observations):\n",
    "        Phi[i, :] = phi(X[i, :])\n",
    "    return Phi\n",
    "\n",
    "class PolynomialBasis(object):\n",
    "    \"\"\"\n",
    "    A set of linear basis functions.\n",
    "    \n",
    "    Arguments:\n",
    "    degree  -  The degree of the polynomial.\n",
    "    \"\"\"\n",
    "    def __init__(self, degree):\n",
    "        self.degree = degree\n",
    "        self.num_basis = degree + 1\n",
    "    def __call__(self, x):\n",
    "        return np.array([x[0] ** i for i in range(self.degree + 1)])\n",
    "    \n",
    "\n",
    "class FourierBasis(object):\n",
    "    \"\"\"\n",
    "    A set of linear basis functions.\n",
    "    \n",
    "    Arguments:\n",
    "    num_terms  -  The number of Fourier terms.\n",
    "    L          -  The period of the function.\n",
    "    \"\"\"\n",
    "    def __init__(self, num_terms, L):\n",
    "        self.num_terms = num_terms\n",
    "        self.L = L\n",
    "        self.num_basis = 2 * num_terms\n",
    "    def __call__(self, x):\n",
    "        res = np.ndarray((self.num_basis,))\n",
    "        for i in xrange(num_terms):\n",
    "            res[2 * i] = np.cos(2 * i * np.pi / self.L * x[0])\n",
    "            res[2 * i + 1] = np.sin(2 * (i+1) * np.pi / self.L * x[0])\n",
    "        return res\n",
    "    \n",
    "\n",
    "class RadialBasisFunctions(object):\n",
    "    \"\"\"\n",
    "    A set of linear basis functions.\n",
    "    \n",
    "    Arguments:\n",
    "    X   -  The centers of the radial basis functions.\n",
    "    ell -  The assumed lengthscale.\n",
    "    \"\"\"\n",
    "    def __init__(self, X, ell):\n",
    "        self.X = X\n",
    "        self.ell = ell\n",
    "        self.num_basis = X.shape[0]\n",
    "    def __call__(self, x):\n",
    "        return np.exp(-.5 * (x - self.X) ** 2 / self.ell ** 2).flatten()"
   ]
  },
  {
   "cell_type": "markdown",
   "metadata": {},
   "source": [
    "## Sanity check - Does the calculation of the evidence with PySMC work?\n",
    "\n",
    "Let\n",
    "$$\n",
    "p(\\theta) = \\mathcal{N}(\\theta|0, 1),\n",
    "$$\n",
    "and\n",
    "$$\n",
    "p(y|\\theta) = \\mathcal{N}(y|\\theta,0).\n",
    "$$\n",
    "The posterior of $\\theta$ given $y$ is:\n",
    "$$\n",
    "p(\\theta|y) = \\frac{p(y|\\theta)p(\\theta)}{Z},\n",
    "$$\n",
    "where\n",
    "$$\n",
    "Z = \\int_{-\\infty}^{\\infty} p(y|\\theta)p(\\theta)d\\theta.\n",
    "$$\n",
    "Let's first calculate $Z$ analytically."
   ]
  },
  {
   "cell_type": "code",
   "execution_count": 4,
   "metadata": {},
   "outputs": [
    {
     "data": {
      "image/png": "[encoded data removed]",
      "text/latex": [
       "$$\\frac{0.5}{\\sqrt{\\pi}} e^{- 0.25 y^{2}}$$"
      ],
      "text/plain": [
       "            2\n",
       "     -0.25⋅y \n",
       "0.5⋅ℯ        \n",
       "─────────────\n",
       "      √π     "
      ]
     },
     "execution_count": 4,
     "metadata": {},
     "output_type": "execute_result"
    }
   ],
   "source": [
    "import sympy\n",
    "import sympy.stats\n",
    "sympy.init_printing()\n",
    "y, t = sympy.symbols('y \\\\theta')\n",
    "q = 1. / sympy.sqrt(2. * sympy.pi) * sympy.exp(-0.5 * (y - t) ** 2) * \\\n",
    "    1. / sympy.sqrt(2. * sympy.pi) * sympy.exp(-0.5 * t ** 2)\n",
    "sympy.simplify(sympy.integrate(q, (t, -sympy.oo, sympy.oo)))"
   ]
  },
  {
   "cell_type": "markdown",
   "metadata": {},
   "source": [
    "So, if the observed $y$ was zero, then the Z should be:\n",
    "$$\n",
    "Z = \\frac{1}{2\\sqrt{\\pi}}.\n",
    "$$"
   ]
  },
  {
   "cell_type": "code",
   "execution_count": 5,
   "metadata": {},
   "outputs": [
    {
     "name": "stdout",
     "output_type": "stream",
     "text": [
      "log Z = -1.266e+00\n"
     ]
    }
   ],
   "source": [
    "Z = 1 /  2. / np.sqrt(np.pi)\n",
    "print 'log Z = {0:1.3e}'.format(np.log(Z))"
   ]
  },
  {
   "cell_type": "markdown",
   "metadata": {},
   "source": [
    "All, right. Now, let's program this thing in pysmc and compare the results.\n",
    "\n",
    "We start with the model:"
   ]
  },
  {
   "cell_type": "code",
   "execution_count": 6,
   "metadata": {},
   "outputs": [],
   "source": [
    "def make_model(y=0.):\n",
    "    # The gamma parameter\n",
    "    gamma = 1.\n",
    "    \n",
    "    # The prior over theta\n",
    "    theta = pm.Normal('$\\theta$', mu=0., tau=1., value=0.)\n",
    "    \n",
    "    # The likelihood term - which must contain gamma in it\n",
    "    @pm.stochastic(observed=True)\n",
    "    def likelihood(value=y, gamma=gamma, theta=theta):\n",
    "        return gamma * pm.normal_like(value, theta, 1.)\n",
    "    \n",
    "    return locals()"
   ]
  },
  {
   "cell_type": "markdown",
   "metadata": {},
   "source": [
    "Now we initialize the model and run PySMC."
   ]
  },
  {
   "cell_type": "code",
   "execution_count": 7,
   "metadata": {},
   "outputs": [
    {
     "name": "stdout",
     "output_type": "stream",
     "text": [
      "------------------------\n",
      "START SMC Initialization\n",
      "------------------------\n",
      "- initializing at gamma : 0.0\n",
      "- initializing by sampling from the prior: SUCCESS\n",
      "----------------------\n",
      "END SMC Initialization\n",
      "----------------------\n",
      "-----------------\n",
      "START SMC MOVE TO\n",
      "-----------------\n",
      "initial  gamma : 0.0\n",
      "final gamma : 1.0\n",
      "ess reduction:  0.9\n",
      "- tuning the MCMC parameters:\n",
      "\t- tuning step method: <pysmc._step_methods.RandomWalk object at 0x1038e5450>\n",
      "- finding next gamma.\n",
      "- moving to gamma : 0.717486768097\n",
      "- performing 1 MCMC step(s) per particle\n",
      "- ESS  = 90.00 %\n",
      "- logZ = -9.486e-01\n",
      " [-----------------100%-----------------] 99 of 99 complete in 0.0 sec\n",
      "- acceptance rate for each step method:\n",
      "\t- <pysmc._step_methods.RandomWalk object at 0x1038e5450> : 0.95\n",
      "- tuning the MCMC parameters:\n",
      "\t- tuning step method: <pysmc._step_methods.RandomWalk object at 0x1038e5450>\n",
      "\n",
      "\t\tadaptive_scale_factor: 1.1\n",
      "\n",
      "\t\tSUCCESS\n",
      "- finding next gamma.\n",
      "- \twe can move directly to the target gamma...\n",
      "- moving to gamma : 1.0\n",
      "- performing 1 MCMC step(s) per particle\n",
      "- ESS  = 85.53 %\n",
      "- logZ = -3.388e-01\n",
      " [-----------------100%-----------------] 99 of 99 complete in 0.0 sec\n",
      "- acceptance rate for each step method:\n",
      "\t- <pysmc._step_methods.RandomWalk object at 0x1038e5450> : 0.94\n",
      "- total number of MCMC steps: 200\n",
      "---------------\n",
      "END SMC MOVE TO\n",
      "---------------\n"
     ]
    }
   ],
   "source": [
    "model = make_model(y=0.)\n",
    "mcmc = pm.MCMC(model)\n",
    "mcmc.use_step_method(ps.RandomWalk, model['theta'])\n",
    "smc = ps.SMC(mcmc, num_particles=100, num_mcmc=1, verbose=4, ess_reduction=0.9)\n",
    "smc.initialize(0.)\n",
    "smc.move_to(1.)"
   ]
  },
  {
   "cell_type": "markdown",
   "metadata": {},
   "source": [
    "Here are the log Z ratios that we gathered along the way:"
   ]
  },
  {
   "cell_type": "code",
   "execution_count": 8,
   "metadata": {},
   "outputs": [
    {
     "name": "stdout",
     "output_type": "stream",
     "text": [
      "[-0.94857829434701113, -0.3387934913175199]\n"
     ]
    }
   ],
   "source": [
    "print smc.log_Zs"
   ]
  },
  {
   "cell_type": "code",
   "execution_count": null,
   "metadata": {},
   "outputs": [],
   "source": []
  },
  {
   "cell_type": "markdown",
   "metadata": {},
   "source": [
    "The evidence is the sum of these:"
   ]
  },
  {
   "cell_type": "code",
   "execution_count": 9,
   "metadata": {},
   "outputs": [
    {
     "name": "stdout",
     "output_type": "stream",
     "text": [
      "Log Z SMC estiamte: -1.287372e+00\n"
     ]
    }
   ],
   "source": [
    "print 'Log Z SMC estiamte: {0:1.6e}'.format(np.sum(smc.log_Zs))"
   ]
  },
  {
   "cell_type": "markdown",
   "metadata": {},
   "source": [
    "Which is close to the truth."
   ]
  },
  {
   "cell_type": "markdown",
   "metadata": {},
   "source": [
    "## Questions\n",
    "+ Repeat the calculations above for a varying number of SMC particles. Start from 10 and go up to 10,000."
   ]
  },
  {
   "cell_type": "markdown",
   "metadata": {},
   "source": [
    "## Polynomial Regression"
   ]
  },
  {
   "cell_type": "markdown",
   "metadata": {},
   "source": [
    "We are going to implement a standard Bayesian linear regression using pymc and train it with pysmc.\n",
    "We will compute the evidence in order to select the best class of basis functions.\n",
    "\n",
    "The model is as follows. The output $y$ conditioned on the input $x$, the weights of the basis functions $w$ and\n",
    "the noise variance $\\sigma^2$ has likelihood:\n",
    "$$\n",
    "p(y|x,w,\\sigma, \\mathcal{M}) = \\mathcal{N}(y|w^T\\phi_{\\mathcal{M}}(x), \\sigma^2),\n",
    "$$\n",
    "where $\\phi_{\\mathcal{M},1}(\\cdot), \\dots, \\phi_{\\mathcal{M},m_{\\mathcal{M}}}(\\cdot)$ are the\n",
    "$m_{\\mathcal{M}}$ basis functions of the model $\\mathcal{M}$.\n",
    "We put a normal prior on the weights:\n",
    "$$\n",
    "p(w|\\alpha) = \\mathcal{N}(w|0, \\alpha I_{m_{\\mathcal{M}}}),\n",
    "$$\n",
    "and an inverse Gamma prior for $\\sigma$ and $\\alpha$:\n",
    "$$\n",
    "p(\\sigma^2) = \\mbox{IG}(\\sigma^2|1, 1),\n",
    "$$\n",
    "and\n",
    "$$\n",
    "p(\\alpha) = \\mbox{IG}(\\alpha|1,1).\n",
    "$$\n",
    "\n",
    "Assume that the data we have observed are:\n",
    "$$\n",
    "x_{1:n} = \\{x_1,\\dots,x_n\\},\\;\\mbox{and}\\;y_{1:n} = \\{y_1,\\dots,y_n\\}.\n",
    "$$\n",
    "Consider the design matrix $\\Phi_{\\mathcal{M}}\\in\\mathbb{R}^{n\\times m}$:\n",
    "$$\n",
    "\\Phi_{\\mathcal{M},ij} = \\phi_{\\mathcal{M},j}(x_i).\n",
    "$$\n",
    "The likelihood of the data is:\n",
    "$$\n",
    "p(y_{1:n} | x_{1:n}, w, \\sigma, \\mathcal{M}) = \\mathcal{N}(y_{1:n}|\\Phi_{\\mathcal{M}}w, \\sigma^2I_n).\n",
    "$$\n",
    "Let's turn this into pymc code."
   ]
  },
  {
   "cell_type": "code",
   "execution_count": 10,
   "metadata": {},
   "outputs": [],
   "source": [
    "def make_model(Phi, y):\n",
    "    # The parameter gamma\n",
    "    gamma = 1.\n",
    "    # The prior for sigma\n",
    "    sigma2 = pm.InverseGamma('sigma2', .5, 0.5)\n",
    "    # The prior for alpha\n",
    "    alpha = pm.InverseGamma('alpha', .5, .5)\n",
    "    # The prior of the weights\n",
    "    w = pm.Normal('w', mu=np.zeros(Phi.shape[1]), tau=alpha)\n",
    "    # The likelihood\n",
    "    @pm.stochastic(observed=True)\n",
    "    def likelihood(value=y, Phi=Phi, gamma=gamma, w=w, sigma2=sigma2):\n",
    "        return gamma * pm.normal_like(value, np.dot(Phi, w), 1. / sigma2)\n",
    "    return locals()"
   ]
  },
  {
   "cell_type": "markdown",
   "metadata": {
    "collapsed": true
   },
   "source": [
    "Let's generate some fake data to play with:"
   ]
  },
  {
   "cell_type": "code",
   "execution_count": 11,
   "metadata": {},
   "outputs": [
    {
     "data": {
      "text/plain": [
       "[<matplotlib.lines.Line2D at 0x1035be610>]"
      ]
     },
     "execution_count": 11,
     "metadata": {},
     "output_type": "execute_result"
    },
    {
     "data": {
      "image/png": "[encoded data removed]",
      "text/plain": [
       "<Figure size 432x288 with 1 Axes>"
      ]
     },
     "metadata": {},
     "output_type": "display_data"
    }
   ],
   "source": [
    "np.random.seed(12345)\n",
    "num_samples = 50\n",
    "sigma2 = 1e-6\n",
    "X = 2 * np.random.rand(num_samples) - 1.\n",
    "y = 0.5 * X  ** 3 - 0.3 * X ** 2 + np.sqrt(sigma2) * np.random.rand(num_samples)\n",
    "plt.plot(X, y, 'kx', markeredgewidth=2)"
   ]
  },
  {
   "cell_type": "markdown",
   "metadata": {},
   "source": [
    "Now, let's create a function that trains the model using pysmc for a polynomial basis with a given order."
   ]
  },
  {
   "cell_type": "code",
   "execution_count": 12,
   "metadata": {},
   "outputs": [],
   "source": [
    "def fit_poly(phi, X, y, num_particles=100, verbose=0):\n",
    "    Phi = compute_design_matrix(X[:, None], phi)\n",
    "    model = make_model(Phi, y)\n",
    "    mcmc = pm.MCMC(model)\n",
    "    mcmc.use_step_method(ps.RandomWalk, model['w'])\n",
    "    mcmc.use_step_method(ps.LognormalRandomWalk, model['alpha'])\n",
    "    mcmc.use_step_method(ps.LognormalRandomWalk, model['sigma2'])\n",
    "    smc = ps.SMC(mcmc, num_particles=num_particles, num_mcmc=10, verbose=verbose, ess_reduction=0.95)\n",
    "    smc.initialize(0.)\n",
    "    smc.move_to(1.)\n",
    "    return smc"
   ]
  },
  {
   "cell_type": "markdown",
   "metadata": {},
   "source": [
    "Now, let's define a function that plots the posteriors of everything."
   ]
  },
  {
   "cell_type": "code",
   "execution_count": 13,
   "metadata": {},
   "outputs": [],
   "source": [
    "def plot_posteriors(smc):\n",
    "    pa = smc.get_particle_approximation()\n",
    "    pa.resample()\n",
    "    W = pa.w\n",
    "    fig, ax = plt.subplots()\n",
    "    for j in xrange(W.shape[1]):\n",
    "        ax.hist(W[:, j], normed=True, alpha=0.5, label='$w_{%d}$' % j)\n",
    "    plt.legend(loc='best')\n",
    "    fig, ax = plt.subplots()\n",
    "    alpha = pa.alpha\n",
    "    ax.hist(alpha, normed=True, label='$\\alpha$', alpha=0.5)\n",
    "    ax.set_xlabel('alpha')\n",
    "    fig, ax = plt.subplots()\n",
    "    sigma2 = pa.sigma2\n",
    "    ax.hist(sigma2, normed=True, label='$\\sigma^2$', alpha=0.5)\n",
    "    ax.set_xlabel('sigma2')"
   ]
  },
  {
   "cell_type": "markdown",
   "metadata": {},
   "source": [
    "Let's also have a function that plots the predictive distribution:"
   ]
  },
  {
   "cell_type": "code",
   "execution_count": 14,
   "metadata": {},
   "outputs": [],
   "source": [
    "def plot_predictive(phi, smc, num_samples=100):\n",
    "    Xt = np.linspace(-1, 1, 100)\n",
    "    Phit = compute_design_matrix(Xt[:, None], phi)\n",
    "    pa = smc.get_particle_approximation()\n",
    "    pa.resample()\n",
    "    W = pa.w\n",
    "    sigma2 = pa.sigma2\n",
    "    # We find the percantiles numerically\n",
    "    Ys = np.ndarray((num_samples * pa.num_particles, Phit.shape[0]))\n",
    "    for i in xrange(W.shape[0]):\n",
    "        w = W[i, :]\n",
    "        sigma = np.sqrt(sigma2[i])\n",
    "        Yt = np.dot(Phit, w)\n",
    "        for j in xrange(num_samples):\n",
    "            Ys[i * num_samples + j, :] = Yt + sigma * np.random.randn(*Yt.shape)\n",
    "    Ym = np.percentile(Ys, 50, axis=0)\n",
    "    Yu = np.percentile(Ys, 97.5, axis=0)\n",
    "    Yl = np.percentile(Ys, 2.5, axis=0)\n",
    "    fig, ax = plt.subplots()\n",
    "    ax.plot(Xt, Ym, color=sns.color_palette()[0])\n",
    "    ax.fill_between(Xt, Yl, Yu, color=sns.color_palette()[0], alpha=0.25)\n",
    "    ax.plot(X, y, 'kx', markeredgewidth=2)"
   ]
  },
  {
   "cell_type": "code",
   "execution_count": 15,
   "metadata": {},
   "outputs": [
    {
     "name": "stdout",
     "output_type": "stream",
     "text": [
      "------------------------\n",
      "START SMC Initialization\n",
      "------------------------\n",
      "- initializing at gamma : 0.0\n",
      "- initializing by sampling from the prior: SUCCESS\n",
      "----------------------\n",
      "END SMC Initialization\n",
      "----------------------\n",
      "-----------------\n",
      "START SMC MOVE TO\n",
      "-----------------\n",
      "initial  gamma : 0.0\n",
      "final gamma : 1.0\n",
      "ess reduction:  0.95\n",
      "- moving to gamma : 0.00413338884621\n",
      "- performing 10 MCMC step(s) per particle\n",
      "- ESS  = 95.00 %\n",
      "- logZ = -3.607e-01\n",
      "\n",
      "- moving to gamma : 0.0083291261436\n",
      "- performing 10 MCMC step(s) per particle\n",
      "- ESS  = 90.25 %\n",
      "- logZ = -3.310e-01\n",
      "\n",
      "- moving to gamma : 0.0116760087872\n",
      "- performing 10 MCMC step(s) per particle\n",
      "- ESS  = 85.74 %\n",
      "- logZ = -2.416e-01\n",
      "\n",
      "- moving to gamma : 0.015459626482\n",
      "- performing 10 MCMC step(s) per particle\n",
      "- ESS  = 81.45 %\n",
      "- logZ = -2.697e-01\n",
      "\n",
      "- moving to gamma : 0.0196581693528\n",
      "- performing 10 MCMC step(s) per particle\n",
      "- ESS  = 77.38 %\n",
      "- logZ = -2.806e-01\n",
      "\n",
      "- moving to gamma : 0.0235239637212\n",
      "- performing 10 MCMC step(s) per particle\n",
      "- ESS  = 73.51 %\n",
      "- logZ = -2.347e-01\n",
      "\n",
      "- moving to gamma : 0.0277581691133\n",
      "- performing 10 MCMC step(s) per particle\n",
      "- ESS  = 69.83 %\n",
      "- logZ = -2.626e-01\n",
      "\n",
      "- resampling\n",
      "- moving to gamma : 0.0314211137954\n",
      "- performing 10 MCMC step(s) per particle\n",
      "- ESS  = 100.00 %\n",
      "- logZ = -1.850e-01\n",
      "\n",
      "- moving to gamma : 0.0397217982789\n",
      "- performing 10 MCMC step(s) per particle\n",
      "- ESS  = 95.00 %\n",
      "- logZ = -4.213e-01\n",
      "\n",
      "- moving to gamma : 0.045973030145\n",
      "- performing 10 MCMC step(s) per particle\n",
      "- ESS  = 90.25 %\n",
      "- logZ = -2.877e-01\n",
      "\n",
      "- moving to gamma : 0.0510758314717\n",
      "- performing 10 MCMC step(s) per particle\n",
      "- ESS  = 85.74 %\n",
      "- logZ = -2.122e-01\n",
      "\n",
      "- moving to gamma : 0.0563413411726\n",
      "- performing 10 MCMC step(s) per particle\n",
      "- ESS  = 81.45 %\n",
      "- logZ = -1.915e-01\n",
      "\n",
      "- moving to gamma : 0.0625288262346\n",
      "- performing 10 MCMC step(s) per particle\n",
      "- ESS  = 77.38 %\n",
      "- logZ = -2.308e-01\n",
      "\n",
      "- moving to gamma : 0.0682044344165\n",
      "- performing 10 MCMC step(s) per particle\n",
      "- ESS  = 73.51 %\n",
      "- logZ = -1.852e-01\n",
      "\n",
      "- moving to gamma : 0.0747265389613\n",
      "- performing 10 MCMC step(s) per particle\n",
      "- ESS  = 69.83 %\n",
      "- logZ = -1.887e-01\n",
      "\n",
      "- resampling\n",
      "- moving to gamma : 0.082292842893\n",
      "- performing 10 MCMC step(s) per particle\n",
      "- ESS  = 100.00 %\n",
      "- logZ = -2.214e-01\n",
      "\n",
      "- moving to gamma : 0.0967794716193\n",
      "- performing 10 MCMC step(s) per particle\n",
      "- ESS  = 95.00 %\n",
      "- logZ = -3.540e-01\n",
      "\n",
      "- moving to gamma : 0.107110176191\n",
      "- performing 10 MCMC step(s) per particle\n",
      "- ESS  = 90.25 %\n",
      "- logZ = -2.181e-01\n",
      "\n",
      "- moving to gamma : 0.116318403401\n",
      "- performing 10 MCMC step(s) per particle\n",
      "- ESS  = 85.74 %\n",
      "- logZ = -1.832e-01\n",
      "\n",
      "- moving to gamma : 0.12630790134\n",
      "- performing 10 MCMC step(s) per particle\n",
      "- ESS  = 81.45 %\n",
      "- logZ = -1.849e-01\n",
      "\n",
      "- moving to gamma : 0.13398449041\n",
      "- performing 10 MCMC step(s) per particle\n",
      "- ESS  = 77.38 %\n",
      "- logZ = -1.267e-01\n",
      "\n",
      "- moving to gamma : 0.145422935657\n",
      "- performing 10 MCMC step(s) per particle\n",
      "- ESS  = 73.51 %\n",
      "- logZ = -1.787e-01\n",
      "\n",
      "- moving to gamma : 0.157606414813\n",
      "- performing 10 MCMC step(s) per particle\n",
      "- ESS  = 69.83 %\n",
      "- logZ = -1.595e-01\n",
      "\n",
      "- resampling\n",
      "- moving to gamma : 0.167795364326\n",
      "- performing 10 MCMC step(s) per particle\n",
      "- ESS  = 100.00 %\n",
      "- logZ = -1.078e-01\n",
      "\n",
      "- moving to gamma : 0.184246860594\n",
      "- performing 10 MCMC step(s) per particle\n",
      "- ESS  = 95.00 %\n",
      "- logZ = -1.233e-01\n",
      "\n",
      "- moving to gamma : 0.195034313632\n",
      "- performing 10 MCMC step(s) per particle\n",
      "- ESS  = 90.25 %\n",
      "- logZ = -7.514e-02\n",
      "\n",
      "- moving to gamma : 0.206794332055\n",
      "- performing 10 MCMC step(s) per particle\n",
      "- ESS  = 85.74 %\n",
      "- logZ = -6.824e-02\n",
      "\n",
      "- moving to gamma : 0.216437240494\n",
      "- performing 10 MCMC step(s) per particle\n",
      "- ESS  = 81.45 %\n",
      "- logZ = -3.517e-02\n",
      "\n",
      "- moving to gamma : 0.229472289022\n",
      "- performing 10 MCMC step(s) per particle\n",
      "- ESS  = 77.38 %\n",
      "- logZ = -4.526e-02\n",
      "\n",
      "- moving to gamma : 0.237899541377\n",
      "- performing 10 MCMC step(s) per particle\n",
      "- ESS  = 73.51 %\n",
      "- logZ = -5.302e-03\n",
      "\n",
      "- moving to gamma : 0.246456899686\n",
      "- performing 10 MCMC step(s) per particle\n",
      "- ESS  = 69.83 %\n",
      "- logZ = 6.703e-03\n",
      "\n",
      "- resampling\n",
      "- moving to gamma : 0.254461222166\n",
      "- performing 10 MCMC step(s) per particle\n",
      "- ESS  = 100.00 %\n",
      "- logZ = 1.248e-02\n",
      "\n",
      "- moving to gamma : 0.279912319529\n",
      "- performing 10 MCMC step(s) per particle\n",
      "- ESS  = 95.00 %\n",
      "- logZ = 1.229e-01\n",
      "\n",
      "- moving to gamma : 0.295052387422\n",
      "- performing 10 MCMC step(s) per particle\n",
      "- ESS  = 90.25 %\n",
      "- logZ = 8.955e-02\n",
      "\n",
      "- moving to gamma : 0.308553930411\n",
      "- performing 10 MCMC step(s) per particle\n",
      "- ESS  = 85.74 %\n",
      "- logZ = 8.688e-02\n",
      "\n",
      "- moving to gamma : 0.320275234201\n",
      "- performing 10 MCMC step(s) per particle\n",
      "- ESS  = 81.45 %\n",
      "- logZ = 8.672e-02\n",
      "\n",
      "- moving to gamma : 0.328614288805\n",
      "- performing 10 MCMC step(s) per particle\n",
      "- ESS  = 77.38 %\n",
      "- logZ = 7.570e-02\n",
      "\n",
      "- moving to gamma : 0.33686309889\n",
      "- performing 10 MCMC step(s) per particle\n",
      "- ESS  = 73.51 %\n",
      "- logZ = 8.510e-02\n",
      "\n",
      "- moving to gamma : 0.348688054073\n",
      "- performing 10 MCMC step(s) per particle\n",
      "- ESS  = 69.83 %\n",
      "- logZ = 1.214e-01\n",
      "\n",
      "- resampling\n",
      "- moving to gamma : 0.361830909351\n",
      "- performing 10 MCMC step(s) per particle\n",
      "- ESS  = 100.00 %\n",
      "- logZ = 1.437e-01\n",
      "\n",
      "- moving to gamma : 0.388985609085\n",
      "- performing 10 MCMC step(s) per particle\n",
      "- ESS  = 95.00 %\n",
      "- logZ = 3.857e-01\n",
      "\n",
      "- moving to gamma : 0.402846771128\n",
      "- performing 10 MCMC step(s) per particle\n",
      "- ESS  = 90.25 %\n",
      "- logZ = 2.352e-01\n",
      "\n",
      "- moving to gamma : 0.414888428677\n",
      "- performing 10 MCMC step(s) per particle\n",
      "- ESS  = 85.74 %\n",
      "- logZ = 2.147e-01\n",
      "\n",
      "- moving to gamma : 0.427039144614\n",
      "- performing 10 MCMC step(s) per particle\n",
      "- ESS  = 81.45 %\n",
      "- logZ = 2.362e-01\n",
      "\n",
      "- moving to gamma : 0.436602178378\n",
      "- performing 10 MCMC step(s) per particle\n",
      "- ESS  = 77.38 %\n",
      "- logZ = 1.977e-01\n",
      "\n",
      "- moving to gamma : 0.447679323241\n",
      "- performing 10 MCMC step(s) per particle\n",
      "- ESS  = 73.51 %\n",
      "- logZ = 2.353e-01\n",
      "\n",
      "- moving to gamma : 0.457879138793\n",
      "- performing 10 MCMC step(s) per particle\n",
      "- ESS  = 69.83 %\n",
      "- logZ = 2.199e-01\n",
      "\n",
      "- resampling\n",
      "- moving to gamma : 0.465371759364\n",
      "- performing 10 MCMC step(s) per particle\n",
      "- ESS  = 100.00 %\n",
      "- logZ = 1.743e-01\n",
      "\n",
      "- moving to gamma : 0.487853625963\n",
      "- performing 10 MCMC step(s) per particle\n",
      "- ESS  = 95.00 %\n",
      "- logZ = 5.521e-01\n",
      "\n",
      "- moving to gamma : 0.498442046504\n",
      "- performing 10 MCMC step(s) per particle\n",
      "- ESS  = 90.25 %\n",
      "- logZ = 2.829e-01\n",
      "\n",
      "- moving to gamma : 0.507515708252\n",
      "- performing 10 MCMC step(s) per particle\n",
      "- ESS  = 85.74 %\n",
      "- logZ = 2.573e-01\n",
      "\n",
      "- moving to gamma : 0.520426622961\n",
      "- performing 10 MCMC step(s) per particle\n",
      "- ESS  = 81.45 %\n",
      "- logZ = 3.549e-01\n",
      "\n",
      "- moving to gamma : 0.536498890357\n",
      "- performing 10 MCMC step(s) per particle\n",
      "- ESS  = 77.38 %\n",
      "- logZ = 4.408e-01\n",
      "\n",
      "- moving to gamma : 0.546411306307\n",
      "- performing 10 MCMC step(s) per particle\n",
      "- ESS  = 73.51 %\n",
      "- logZ = 2.830e-01\n",
      "\n",
      "- moving to gamma : 0.563163796444\n",
      "- performing 10 MCMC step(s) per particle\n",
      "- ESS  = 69.83 %\n",
      "- logZ = 4.944e-01\n",
      "\n",
      "- resampling\n",
      "- moving to gamma : 0.578339971343\n",
      "- performing 10 MCMC step(s) per particle\n",
      "- ESS  = 100.00 %\n",
      "- logZ = 4.683e-01\n",
      "\n",
      "- moving to gamma : 0.610979595629\n",
      "- performing 10 MCMC step(s) per particle\n",
      "- ESS  = 95.00 %\n",
      "- logZ = 1.008e+00\n",
      "\n",
      "- moving to gamma : 0.625251543529\n",
      "- performing 10 MCMC step(s) per particle\n",
      "- ESS  = 90.25 %\n",
      "- logZ = 4.654e-01\n",
      "\n",
      "- moving to gamma : 0.638769125618\n",
      "- performing 10 MCMC step(s) per particle\n",
      "- ESS  = 85.74 %\n",
      "- logZ = 4.526e-01\n",
      "\n",
      "- moving to gamma : 0.654507585532\n",
      "- performing 10 MCMC step(s) per particle\n",
      "- ESS  = 81.45 %\n",
      "- logZ = 5.383e-01\n",
      "\n",
      "- moving to gamma : 0.673444023773\n",
      "- performing 10 MCMC step(s) per particle\n",
      "- ESS  = 77.38 %\n",
      "- logZ = 6.631e-01\n",
      "\n",
      "- moving to gamma : 0.689590678325\n",
      "- performing 10 MCMC step(s) per particle\n",
      "- ESS  = 73.51 %\n",
      "- logZ = 5.778e-01\n",
      "\n",
      "- moving to gamma : 0.70399846239\n",
      "- performing 10 MCMC step(s) per particle\n",
      "- ESS  = 69.83 %\n",
      "- logZ = 5.214e-01\n",
      "\n",
      "- resampling\n",
      "- moving to gamma : 0.72452491088\n",
      "- performing 10 MCMC step(s) per particle\n",
      "- ESS  = 100.00 %\n",
      "- logZ = 7.478e-01\n",
      "\n",
      "- moving to gamma : 0.762530825487\n",
      "- performing 10 MCMC step(s) per particle\n",
      "- ESS  = 95.00 %\n",
      "- logZ = 1.412e+00\n",
      "\n",
      "- moving to gamma : 0.782252913239\n",
      "- performing 10 MCMC step(s) per particle\n",
      "- ESS  = 90.25 %\n",
      "- logZ = 7.675e-01\n",
      "\n",
      "- moving to gamma : 0.798709375339\n",
      "- performing 10 MCMC step(s) per particle\n",
      "- ESS  = 85.74 %\n",
      "- logZ = 6.624e-01\n",
      "\n",
      "- moving to gamma : 0.812307713923\n",
      "- performing 10 MCMC step(s) per particle\n",
      "- ESS  = 81.45 %\n",
      "- logZ = 5.535e-01\n"
     ]
    },
    {
     "name": "stdout",
     "output_type": "stream",
     "text": [
      "\n",
      "- moving to gamma : 0.827584151271\n",
      "- performing 10 MCMC step(s) per particle\n",
      "- ESS  = 77.38 %\n",
      "- logZ = 6.249e-01\n",
      "\n",
      "- moving to gamma : 0.841629467006\n",
      "- performing 10 MCMC step(s) per particle\n",
      "- ESS  = 73.51 %\n",
      "- logZ = 5.864e-01\n",
      "\n",
      "- moving to gamma : 0.854908295228\n",
      "- performing 10 MCMC step(s) per particle\n",
      "- ESS  = 69.83 %\n",
      "- logZ = 5.608e-01\n",
      "\n",
      "- resampling\n",
      "- moving to gamma : 0.870560439016\n",
      "- performing 10 MCMC step(s) per particle\n",
      "- ESS  = 100.00 %\n",
      "- logZ = 6.679e-01\n",
      "\n",
      "- moving to gamma : 0.907261645004\n",
      "- performing 10 MCMC step(s) per particle\n",
      "- ESS  = 95.00 %\n",
      "- logZ = 1.641e+00\n",
      "\n",
      "- moving to gamma : 0.929957959846\n",
      "- performing 10 MCMC step(s) per particle\n",
      "- ESS  = 90.25 %\n",
      "- logZ = 1.031e+00\n",
      "\n",
      "- moving to gamma : 0.94890186509\n",
      "- performing 10 MCMC step(s) per particle\n",
      "- ESS  = 85.74 %\n",
      "- logZ = 8.660e-01\n",
      "\n",
      "- moving to gamma : 0.968352259895\n",
      "- performing 10 MCMC step(s) per particle\n",
      "- ESS  = 81.45 %\n",
      "- logZ = 8.946e-01\n",
      "\n",
      "- moving to gamma : 0.986552308464\n",
      "- performing 10 MCMC step(s) per particle\n",
      "- ESS  = 77.38 %\n",
      "- logZ = 8.545e-01\n",
      "\n",
      "- moving to gamma : 1.0\n",
      "- performing 10 MCMC step(s) per particle\n",
      "- ESS  = 75.07 %\n",
      "- logZ = 6.333e-01\n",
      "\n",
      "- total number of MCMC steps: 78000\n",
      "---------------\n",
      "END SMC MOVE TO\n",
      "---------------\n"
     ]
    },
    {
     "data": {
      "image/png": "[encoded data removed]",
      "text/plain": [
       "<Figure size 432x288 with 1 Axes>"
      ]
     },
     "metadata": {},
     "output_type": "display_data"
    },
    {
     "data": {
      "image/png": "[encoded data removed]",
      "text/plain": [
       "<Figure size 432x288 with 1 Axes>"
      ]
     },
     "metadata": {},
     "output_type": "display_data"
    },
    {
     "data": {
      "image/png": "[encoded data removed]",
      "text/plain": [
       "<Figure size 432x288 with 1 Axes>"
      ]
     },
     "metadata": {},
     "output_type": "display_data"
    },
    {
     "data": {
      "image/png": "[encoded data removed]",
      "text/plain": [
       "<Figure size 432x288 with 1 Axes>"
      ]
     },
     "metadata": {},
     "output_type": "display_data"
    }
   ],
   "source": [
    "phi = PolynomialBasis(3)\n",
    "smc = fit_poly(phi, X, y, num_particles=100, verbose=1)\n",
    "plot_posteriors(smc)\n",
    "plot_predictive(phi, smc)"
   ]
  },
  {
   "cell_type": "markdown",
   "metadata": {},
   "source": [
    "Now, we can compute and compare the evidence of all  models:"
   ]
  },
  {
   "cell_type": "code",
   "execution_count": 16,
   "metadata": {},
   "outputs": [
    {
     "name": "stdout",
     "output_type": "stream",
     "text": [
      "degree 1 gives 7.992e+00\n",
      "degree 2 gives 1.212e+01\n",
      "degree 3 gives 1.680e+01\n",
      "degree 4 gives 1.619e+01\n",
      "degree 5 gives 1.623e+01\n"
     ]
    }
   ],
   "source": [
    "# Evaluate the evidence for the various degrees\n",
    "log_Zs = []\n",
    "for d in [1, 2, 3, 4, 5]:\n",
    "    phi = phi = PolynomialBasis(d)\n",
    "    smc = fit_poly(phi, X, y, num_particles=100)\n",
    "    log_Z = np.sum(smc.log_Zs)\n",
    "    print 'degree {0:1d} gives {1:1.3e}'.format(d, log_Z)\n",
    "    log_Zs.append(log_Z)"
   ]
  },
  {
   "cell_type": "code",
   "execution_count": 17,
   "metadata": {},
   "outputs": [
    {
     "data": {
      "image/png": "[encoded data removed]",
      "text/latex": [
       "$$\\left ( 50\\right )$$"
      ],
      "text/plain": [
       "(50,)"
      ]
     },
     "execution_count": 17,
     "metadata": {},
     "output_type": "execute_result"
    }
   ],
   "source": [
    "X.shape"
   ]
  },
  {
   "cell_type": "code",
   "execution_count": 18,
   "metadata": {
    "scrolled": true
   },
   "outputs": [
    {
     "data": {
      "text/plain": [
       "<BarContainer object of 5 artists>"
      ]
     },
     "execution_count": 18,
     "metadata": {},
     "output_type": "execute_result"
    },
    {
     "data": {
      "image/png": "[encoded data removed]",
      "text/plain": [
       "<Figure size 432x288 with 1 Axes>"
      ]
     },
     "metadata": {},
     "output_type": "display_data"
    }
   ],
   "source": [
    "fig, ax = plt.subplots()\n",
    "ax.bar(np.arange(1, len(log_Zs) + 1), np.exp(log_Zs) / np.sum(np.exp(log_Zs)))"
   ]
  },
  {
   "cell_type": "markdown",
   "metadata": {},
   "source": [
    "## Questions\n",
    "+ The model with degree 3 polynomials has the gradest evidence. However, the degree 4 and 5 seem also very plaussible. Is this a problem for the theory of Bayesian model selection? What complicates things here, is that model 3 is included in model 4 which is included in model 5. This requires us to design special priors for the models being right. They have to be consistent in some sense. For example, if model 3 is right then model 4 must be right, etc.\n",
    "\n",
    "+ In the space below, we load the motorcycle data. By copy pasting the code above and by making small modifications, evaluate the model evidence for a 1) Polynomial basis; 2) a Fourier basis; and 3) a Radial basis function basis. Feel free to pick the parameters of these basis functions to be the best we found in [Lecture 9](./lec_09.ipynb)."
   ]
  },
  {
   "cell_type": "markdown",
   "metadata": {},
   "source": [
    "# Revisiting Challenger Disaster Problem (Model Selection)\n"
   ]
  },
  {
   "cell_type": "code",
   "execution_count": 20,
   "metadata": {},
   "outputs": [
    {
     "name": "stdout",
     "output_type": "stream",
     "text": [
      "Temp (F), O-Ring failure?\n",
      "[[ 66.   0.]\n",
      " [ 70.   1.]\n",
      " [ 69.   0.]\n",
      " [ 68.   0.]\n",
      " [ 67.   0.]\n",
      " [ 72.   0.]\n",
      " [ 73.   0.]\n",
      " [ 70.   0.]\n",
      " [ 57.   1.]\n",
      " [ 63.   1.]\n",
      " [ 70.   1.]\n",
      " [ 78.   0.]\n",
      " [ 67.   0.]\n",
      " [ 53.   1.]\n",
      " [ 67.   0.]\n",
      " [ 75.   0.]\n",
      " [ 70.   0.]\n",
      " [ 81.   0.]\n",
      " [ 76.   0.]\n",
      " [ 79.   0.]\n",
      " [ 75.   1.]\n",
      " [ 76.   0.]\n",
      " [ 58.   1.]]\n"
     ]
    },
    {
     "data": {
      "image/png": "[encoded data removed]",
      "text/plain": [
       "<Figure size 900x252 with 1 Axes>"
      ]
     },
     "metadata": {},
     "output_type": "display_data"
    }
   ],
   "source": [
    "from IPython.core.pylabtools import figsize\n",
    "figsize(12.5, 3.5)\n",
    "np.set_printoptions(precision=3, suppress=True)\n",
    "challenger_data = np.genfromtxt(\"challenger_data.csv\", skip_header=1,\n",
    "                                usecols=[1, 2], missing_values=\"NA\",\n",
    "                                delimiter=\",\")\n",
    "# drop the NA values\n",
    "challenger_data = challenger_data[~np.isnan(challenger_data[:, 1])]\n",
    "\n",
    "# plot it, as a function of temperature (the first column)\n",
    "print(\"Temp (F), O-Ring failure?\")\n",
    "print(challenger_data)\n",
    "\n",
    "plt.scatter(challenger_data[:, 0], challenger_data[:, 1])\n",
    "plt.yticks([0, 1])\n",
    "plt.ylabel(\"Damage Incident?\")\n",
    "plt.xlabel(\"Outside temperature (Fahrenheit)\")\n",
    "plt.title(\"Defects of the Space Shuttle O-Rings vs temperature\");"
   ]
  },
  {
   "cell_type": "code",
   "execution_count": null,
   "metadata": {},
   "outputs": [],
   "source": [
    "def make_model(feat, y):\n",
    "    \"\"\"\n",
    "    PyMC model (wrapping all the data and variables into a single function)\n",
    "    Inputs:\n",
    "    challenger data (23 x 2): Pandas dataframe ( Outside Temp vs. Damage Incident)\n",
    "    Outputs:\n",
    "    alpha, beta : stochastic parameters associated with the given model\n",
    "    \"\"\"\n",
    "    gamma = 1.\n",
    "    # Load data\n",
    "    \n",
    "    feat_scaled = (feat - np.mean(feat))/np.std(feat) # to ensure proper mixing of MCMC chains\n",
    "    #D = challenger_data[:, 1]  # defect or not?\n",
    "    \n",
    "    # Define Prior\n",
    "    beta = pm.Normal(\"beta\", 0, 0.1, value = 0) # 0 mean and small 0.001 precision - vague prior\n",
    "    alpha = pm.Normal(\"alpha\", 0, 0.1, value = 0)\n",
    "    \n",
    "    @pm.deterministic\n",
    "    def p(t=feat_scaled, alpha=alpha, beta=beta):\n",
    "        return 1.0 / (1. + np.exp(beta * t + alpha))\n",
    "    \n",
    "    # Define likelihood\n",
    "    # connect the probabilities in `p` with our observations through a\n",
    "    # Bernoulli random variable.\n",
    "    @pm.stochastic(observed = True)\n",
    "    def likelihood(value = y, p = p, gamma = gamma):\n",
    "        return gamma*pm.bernoulli_like(value, p)\n",
    "    return locals()\n",
    "\n",
    "import mpi4py.MPI as mpi\n",
    "\n",
    "def fit_smc(feat,y, num_particles=100, verbose=0):\n",
    "    model = make_model(feat,y)\n",
    "    mcmc = pm.MCMC(model)\n",
    "    mcmc.use_step_method(ps.RandomWalk, model['beta'])\n",
    "    mcmc.use_step_method(ps.RandomWalk, model['alpha'])\n",
    "    smc = ps.SMC(mcmc, num_particles=num_particles, num_mcmc=20,\n",
    "                 verbose=verbose,mpi=mpi, ess_reduction=0.95)\n",
    "    smc.initialize(0.)\n",
    "    smc.move_to(1.)\n",
    "    return smc"
   ]
  },
  {
   "cell_type": "code",
   "execution_count": null,
   "metadata": {},
   "outputs": [],
   "source": [
    "temp = challenger_data[:,0]\n",
    "y = challenger_data[:,1]\n",
    "smc = fit_smc(temp,y, num_particles= 500, verbose=1)"
   ]
  },
  {
   "cell_type": "code",
   "execution_count": null,
   "metadata": {},
   "outputs": [],
   "source": [
    "def plot_posterior(smc):\n",
    "    pa = smc.get_particle_approximation()\n",
    "    pa.resample()\n",
    "    fig, ax = plt.subplots()\n",
    "    alpha = pa.alpha\n",
    "    ax.hist(alpha, normed=True, label='$\\alpha$', alpha=0.5)\n",
    "    ax.set_xlabel('alpha')\n",
    "    fig, ax = plt.subplots()\n",
    "    beta = pa.beta\n",
    "    ax.hist(beta, normed=True, label='$\\beta^2$', alpha=0.5)\n",
    "    ax.set_xlabel('beta')\n",
    "\n",
    "def logistic(x, beta, alpha=0):\n",
    "    return 1.0 / (1.0 + np.exp(np.dot(beta, x) + alpha))\n",
    "\n",
    "def plot_predictive(challenger_data, smc, num_samples=500):\n",
    "    pa = smc.get_particle_approximation()\n",
    "    pa.resample()\n",
    "    alpha = pa.alpha\n",
    "    beta = pa.beta\n",
    "    \n",
    "    temp = challenger_data[:, 0]\n",
    "    D = challenger_data[:, 1]\n",
    "    t = np.linspace(temp.min() - 5, temp.max() + 5, 50)[:, None]\n",
    "    t_scaled = (t - np.mean(temp))/np.std(temp)\n",
    "    p_t = logistic(t_scaled.T, beta[:,None], alpha[:,None])\n",
    "\n",
    "    mean_prob_t = p_t.mean(axis=0)\n",
    "    # vectorized bottom and top 2.5% quantiles for \"confidence interval\"\n",
    "    qs = mquantiles(p_t, [0.025, 0.975], axis=0)\n",
    "    plt.fill_between(t[:, 0], *qs, alpha=0.7,\n",
    "                     color=\"#7A68A6\")\n",
    "\n",
    "    plt.plot(t[:, 0], qs[0], label=\"95% CI\", color=\"#7A68A6\", alpha=0.7)\n",
    "\n",
    "    plt.plot(t, mean_prob_t, lw=1, ls=\"--\", color=\"k\",\n",
    "             label=\"average posterior \\nprobability of defect\")\n",
    "\n",
    "    plt.xlim(t.min(), t.max())\n",
    "    plt.ylim(-0.02, 1.02)\n",
    "    plt.legend(loc=\"lower left\")\n",
    "    plt.scatter(temp, D, color=\"k\", s=50, alpha=0.5)\n",
    "    plt.xlabel(\"temp, $t$\")\n",
    "\n",
    "    plt.ylabel(\"probability estimate\")\n",
    "    plt.title(\"Posterior probability estimates given temp. $t$\");"
   ]
  },
  {
   "cell_type": "code",
   "execution_count": null,
   "metadata": {},
   "outputs": [],
   "source": [
    "plot_posterior(smc)"
   ]
  },
  {
   "cell_type": "code",
   "execution_count": null,
   "metadata": {},
   "outputs": [],
   "source": [
    "plot_predictive(challenger_data, smc, num_samples=500)"
   ]
  },
  {
   "cell_type": "markdown",
   "metadata": {},
   "source": [
    "# Feature Selection\n",
    "\n",
    "We knew that temperature was a relevant feature for predicting the probability of failure of O-rings since there are numerous studies published which illustrates this fact.\n",
    "\n",
    "But when dealing with your own problem, you might not know which feature is relevant/important. For example, we have not considered Leak-check pressure (psi) for predicting the probability of failure (which is available in whole Challenger disaster data UCI data repository (https://archive.ics.uci.edu/ml/datasets/Challenger+USA+Space+Shuttle+O-Ring). Let us see if we can predict the probability of failure using leak check pressure feature."
   ]
  },
  {
   "cell_type": "code",
   "execution_count": null,
   "metadata": {},
   "outputs": [],
   "source": [
    "c2_data = np.loadtxt('challenger2.txt')\n",
    "leak_pressure = c2_data[:,3]\n",
    "smc2 = fit_smc(leak_pressure,y, num_particles= 500, verbose=1)"
   ]
  },
  {
   "cell_type": "code",
   "execution_count": null,
   "metadata": {},
   "outputs": [],
   "source": [
    "log_Zs = [np.sum(smc.log_Zs), np.sum(smc2.log_Zs)]\n",
    "print 'When we use temp as feature, log evidence is :', str(log_Zs[0])\n",
    "print 'When we use leak pressure as feature, log evidence is :', str(log_Zs[1])"
   ]
  },
  {
   "cell_type": "code",
   "execution_count": null,
   "metadata": {},
   "outputs": [],
   "source": [
    "fig, ax = plt.subplots()\n",
    "ax.bar(np.arange(1, len(log_Zs) + 1), np.exp(log_Zs) / np.sum(np.exp(log_Zs)))"
   ]
  },
  {
   "cell_type": "markdown",
   "metadata": {},
   "source": [
    "# Motor Cycle Data Visualization"
   ]
  },
  {
   "cell_type": "code",
   "execution_count": null,
   "metadata": {},
   "outputs": [],
   "source": [
    "data = np.loadtxt('motor.dat')\n",
    "X = data[:, 0][:, None]\n",
    "Y = data[:, 1]\n",
    "fig, ax = plt.subplots()\n",
    "ax.plot(X, Y, 'x', markeredgewidth=2)\n",
    "ax.set_xlabel('$x$')\n",
    "ax.set_ylabel('$y$')"
   ]
  },
  {
   "cell_type": "code",
   "execution_count": null,
   "metadata": {},
   "outputs": [],
   "source": [
    "import pymc as pm\n",
    "def make_model(Phi, y):\n",
    "    # The parameter gamma\n",
    "    gamma = 1.\n",
    "    # The prior for sigma\n",
    "    sigma1 = pm.Exponential('sigma1', 0.1)\n",
    "    sigma2 = pm.Exponential('sigma2', 0.1)\n",
    "    # The prior of the weights\n",
    "    w = pm.Normal('w', mu=np.zeros(Phi.shape[1]), tau= 1./sigma1**2)\n",
    "    # The likelihood\n",
    "    @pm.stochastic(observed=True)\n",
    "    def likelihood(value=y, Phi=Phi, gamma=gamma, w=w, sigma2=sigma2):\n",
    "        return gamma * pm.normal_like(value, np.dot(Phi, w), 1. / sigma2**2)\n",
    "    return locals()"
   ]
  },
  {
   "cell_type": "code",
   "execution_count": null,
   "metadata": {},
   "outputs": [],
   "source": [
    "def plot_posterior(smc):\n",
    "    pa = smc.get_particle_approximation()\n",
    "    pa.resample()\n",
    "    W = pa.w\n",
    "    fig, ax = plt.subplots()\n",
    "    for j in xrange(W.shape[1]):\n",
    "        ax.hist(W[:, j], normed=True, alpha=0.5, label='$w_{%d}$' % j)\n",
    "    #plt.legend(loc='best')\n",
    "    fig, ax = plt.subplots()\n",
    "    sigma1 = pa.sigma1\n",
    "    ax.hist(sigma1, normed=True, label='$\\alpha$', alpha=0.5)\n",
    "    ax.set_xlabel('sigma1')\n",
    "    fig, ax = plt.subplots()\n",
    "    sigma2 = pa.sigma2\n",
    "    ax.hist(sigma2, normed=True, label='$\\sigma^2$', alpha=0.5)\n",
    "    ax.set_xlabel('sigma2')\n",
    "    \n",
    "def plot_predictive(phi, smc, num_samples=100):\n",
    "    Xt = np.linspace(0, 60, 100)\n",
    "    Phit = compute_design_matrix(Xt[:,None], phi)\n",
    "    pa = smc.get_particle_approximation()\n",
    "    pa.resample()\n",
    "    W = pa.w\n",
    "    \n",
    "    p_t = np.dot(W,Phit.T)\n",
    "    mean_prob_t = np.mean(p_t, axis = 0)\n",
    "\n",
    "    # vectorized bottom and top 2.5% quantiles for \"confidence interval\"\n",
    "    qs = mquantiles(p_t, [0.025, 0.975], axis=0)\n",
    "    plt.fill_between(Xt, *qs, alpha=0.7,\n",
    "                     color=\"#7A68A6\")\n",
    "\n",
    "    plt.plot(Xt, qs[0], label=\"95% CI\", color=\"#7A68A6\", alpha=0.7)\n",
    "\n",
    "    plt.plot(Xt, mean_prob_t, lw=1, ls=\"--\", color=\"k\",\n",
    "             label=\"average posterior\")\n",
    "\n",
    "    plt.xlim(Xt.min(), Xt.max())\n",
    "    plt.legend(loc=\"best\")\n",
    "    plt.scatter(X, Y, color=\"k\", s=50, alpha=0.5)"
   ]
  },
  {
   "cell_type": "code",
   "execution_count": null,
   "metadata": {},
   "outputs": [],
   "source": [
    "ell = 5.\n",
    "smc = fit_radial(ell, X, Y, num_particles=500, verbose=1)"
   ]
  },
  {
   "cell_type": "code",
   "execution_count": null,
   "metadata": {},
   "outputs": [],
   "source": [
    "plot_posterior(smc)"
   ]
  },
  {
   "cell_type": "code",
   "execution_count": null,
   "metadata": {},
   "outputs": [],
   "source": [
    "phi = RadialBasisFunctions(X, ell)\n",
    "plot_predictive(phi, smc, num_samples=500)"
   ]
  },
  {
   "cell_type": "code",
   "execution_count": null,
   "metadata": {},
   "outputs": [],
   "source": [
    "# Evaluate the evidence for the various degrees\n",
    "log_Zs = []\n",
    "for ell in [2, 5]:\n",
    "    smc = fit_radial(ell, X, Y, num_particles=500, verbose=1)\n",
    "    log_Z = np.sum(smc.log_Zs)\n",
    "    log_Zs.append(log_Z)"
   ]
  },
  {
   "cell_type": "code",
   "execution_count": null,
   "metadata": {},
   "outputs": [],
   "source": [
    "ells = [2, 5]\n",
    "for i in xrange(5):\n",
    "    print 'For ell = ' + str(ell) + ', evidence is : ' + str(log_Zs[i])"
   ]
  },
  {
   "cell_type": "code",
   "execution_count": null,
   "metadata": {},
   "outputs": [],
   "source": [
    "fig, ax = plt.subplots()\n",
    "ax.bar(np.arange(1, len(log_Zs) + 1), np.exp(log_Zs) / np.sum(np.exp(log_Zs)))"
   ]
  }
 ],
 "metadata": {
  "anaconda-cloud": {},
  "kernelspec": {
   "display_name": "Python 2",
   "language": "python",
   "name": "python2"
  },
  "language_info": {
   "codemirror_mode": {
    "name": "ipython",
    "version": 2
   },
   "file_extension": ".py",
   "mimetype": "text/x-python",
   "name": "python",
   "nbconvert_exporter": "python",
   "pygments_lexer": "ipython2",
   "version": "2.7.14"
  },
  "latex_envs": {
   "bibliofile": "biblio.bib",
   "cite_by": "apalike",
   "current_citInitial": 1,
   "eqLabelWithNumbers": true,
   "eqNumInitial": 0
  }
 },
 "nbformat": 4,
 "nbformat_minor": 1
}
