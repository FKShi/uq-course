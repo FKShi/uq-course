{
 "cells": [
  {
   "cell_type": "markdown",
   "metadata": {},
   "source": [
    "# Lecture 16 - Uncertainty Propagation: Polynomial Chaos I\n",
    "\n",
    "## Objectives\n",
    "\n",
    "+ Introduce quadrature rules in 1D and in particular nested quadrature rules.\n",
    "+ Expand quadrature rules in multiple dimensions using sparse grids.\n",
    "\n",
    "## Readings\n",
    "\n",
    "+ These notes.\n",
    "+ Sullivan, Chapter 9.\n"
   ]
  },
  {
   "cell_type": "code",
   "execution_count": null,
   "metadata": {
    "collapsed": true
   },
   "outputs": [],
   "source": [
    "import numpy as np\n",
    "import math\n",
    "import scipy.stats as st\n",
    "import scipy\n",
    "import matplotlib as mpl\n",
    "import matplotlib.pyplot as plt\n",
    "%matplotlib inline\n",
    "mpl.rcParams['figure.dpi'] = 300\n",
    "import seaborn as sns\n",
    "sns.set_style('white')\n",
    "sns.set_context('talk')\n",
    "import design\n",
    "import warnings\n",
    "warnings.filterwarnings('ignore')\n",
    "import orthpol  # This is the package we will use to construct orthogonal polynomials"
   ]
  },
  {
   "cell_type": "markdown",
   "metadata": {},
   "source": [
    "## Quadrature Rules\n",
    "\n",
    "### Simple Quadrature\n",
    "Consider the problem of evaluating an integral:\n",
    "$$\n",
    "I = \\int_a^b f(x) dx,\n",
    "$$\n",
    "where $a < b$.\n",
    "A *quadrature rule* is an approximation to that integral of the form:\n",
    "$$\n",
    "Q(f) = \\sum_{k=1}^nw_kf(x_k).\n",
    "$$\n",
    "The $x_k$'s are the *nodes* of the rule and the $w_k$'s are the *weights* of the rule.\n",
    "\n",
    "### Newton-Cotes rule (don't use it)\n",
    "Let's introduce this one by one.\n",
    "This rule is constructed as follows:\n",
    "\n",
    "+ Pick equidistant points in $[a,b]$:\n",
    "$$\n",
    "x_k = a + h k,\n",
    "$$\n",
    "for $k=0,\\dots,n+1$, where $h = \\frac{b-a}{n+1}$.\n",
    "\n",
    "+ Approximate $f$ using the [Lagrange polynomials](https://en.wikipedia.org/wiki/Lagrange_polynomial):\n",
    "$$\n",
    "f(x) \\approx \\sum_{k=1}^n f(x_k)\\ell_k(x).\n",
    "$$\n",
    "\n",
    "+ Approximate the integral by:\n",
    "$$\n",
    "Q_{nc}(f) = \\sum_{k=1}^n \\int_a^b\\ell_k(x)dx \\cdot f(x_k),\n",
    "$$\n",
    "i.e.,\n",
    "$$\n",
    "w_k = \\int_a^b\\ell_k(x)dx.\n",
    "$$\n",
    "\n",
    "In other words, the Newton-Cotes rule approximate the integral with the integral of the Lagrange polynomial that approximates the function based on these points."
   ]
  },
  {
   "cell_type": "code",
   "execution_count": null,
   "metadata": {
    "collapsed": false
   },
   "outputs": [],
   "source": [
    "# The function we will integrate\n",
    "f = lambda x: np.cos(x * 3)\n",
    "\n",
    "# Pick Newton-Cotes quadrature points\n",
    "nq = 3\n",
    "X = np.linspace(-1, 1, nq)\n",
    "\n",
    "# Get the Lagrange interpolating polynomial\n",
    "Lf = scipy.interpolate.lagrange(X, f(X))\n",
    "\n",
    "# Visualize the actual function and the Lagrange interpolating polynomial\n",
    "fig, ax = plt.subplots()\n",
    "x = np.linspace(-1, 1, 200)\n",
    "\n",
    "ax.plot(x, f(x))\n",
    "ax.fill_between(x, np.zeros(x.shape), f(x), alpha=0.25)\n",
    "ax.plot(x, Lf(x))\n",
    "ax.fill_between(x, np.zeros(x.shape), Lf(x), alpha=0.25)\n",
    "ax.plot(X, f(X), '.')\n",
    "ax.set_xlabel('$x$')\n",
    "ax.set_ylabel('$f(x)$')\n",
    "ax.set_title('$n=%d$' % nq)\n",
    "plt.legend(['$f(x)$', '$L_f(x)$'], loc='best');"
   ]
  },
  {
   "cell_type": "markdown",
   "metadata": {},
   "source": [
    "### Questions\n",
    "\n",
    "+ Change the function above to $f(x) = H(x)$ (step function) and see that the Newton-Cotes rule has trouble approximating the integral no matter how many quadrature points you use."
   ]
  },
  {
   "cell_type": "markdown",
   "metadata": {},
   "source": [
    "### Gaussian quadrature (don't use it)\n",
    "\n",
    "This is just like the Newton-Cotes rule, but instead of equidistant nodes it uses nodes that are the zeros of the $n$-degree orthogonal polynomial with weight $w(x) = 1$.\n",
    "\n",
    "**Note:** You can generalize the Gaussian quadrature rule, for other weights.\n",
    "\n",
    "**Note:** Gaussian quadrature integrates exactly polynomials up to degree $2n + 1$ and there is no other quadrature rule with $n$ points that can do that."
   ]
  },
  {
   "cell_type": "code",
   "execution_count": null,
   "metadata": {
    "collapsed": false
   },
   "outputs": [],
   "source": [
    "# The function we will integrate\n",
    "f = lambda x: np.cos(x * 3)\n",
    "\n",
    "\n",
    "# Pick Newton-Cotes quadrature points\n",
    "nq = 2\n",
    "# Get the roots of the nq - 1 degree polynomial with w[x] = 1 in [-1, 1] (Legendre)\n",
    "Xs, ws = scipy.special.roots_legendre(nq-1)\n",
    "# Get the roots of the nq degree polynomial\n",
    "X, w = scipy.special.roots_legendre(nq)\n",
    "\n",
    "# Get the Lagrange interpolating polynomial\n",
    "Lf = scipy.interpolate.lagrange(X, f(X))\n",
    "\n",
    "# Visualize the actual function and the Lagrange interpolating polynomial\n",
    "fig, ax = plt.subplots()\n",
    "x = np.linspace(-1, 1, 200)\n",
    "\n",
    "ax.plot(x, f(x))\n",
    "ax.fill_between(x, np.zeros(x.shape), f(x), alpha=0.25)\n",
    "ax.plot(x, Lf(x))\n",
    "ax.fill_between(x, np.zeros(x.shape), Lf(x), alpha=0.25)\n",
    "ax.plot(X, f(X), '.')\n",
    "#ax.plot(Xs, f(Xs), '.')\n",
    "ax.set_xlabel('$x$')\n",
    "ax.set_title('$n=%d$' % nq)\n",
    "ax.set_ylabel('$f(x)$')\n",
    "plt.legend(['$f(x)$', '$L_f(x)$'], loc='best');"
   ]
  },
  {
   "cell_type": "markdown",
   "metadata": {},
   "source": [
    "### Questions\n",
    "\n",
    "+ Notice that the Gaussian quadrature nodes are not nested. Every time you increase the number of quadrature points, you get completely different nodes. This means that you cannot reuse the function evaluations you have seen so far.\n",
    "+ Change the function above to $f(x) = H(x)$ (step function) and see that the Gaussian quadrature rule has less trouble approximating the integral no matter how many quadrature points you use.\n",
    "+ Try $f(x) = \\cos(10 x) * \\exp\\{-(10x)^2/2\\}$ to see that some problems do persist."
   ]
  },
  {
   "cell_type": "markdown",
   "metadata": {},
   "source": [
    "### Clenshaw-Curtis Quadrature\n",
    "\n",
    "We are looking for a quadrature rule with nested nodes. As we increase the number of points, we would like to be able to reuse the function evaluations.\n",
    "\n",
    "The derivation is quite involved, but it goes like this.\n",
    "Let us look at the case $a=-1, b=1$.\n",
    "First, we transform the integral by setting $x = \\cos\\theta$:\n",
    "$$\n",
    "\\int_{-1}^1 f(x)dx = \\int_0^\\pi f(\\cos\\theta)\\sin(\\theta)d\\theta.\n",
    "$$\n",
    "Then, expand the $f(\\cos\\theta)$ in cosine series:\n",
    "$$\n",
    "f(\\cos\\theta) = \\frac{a_0}{2} + \\sum_{k=1}^\\infty a_k \\cos(k\\theta),\n",
    "$$\n",
    "where\n",
    "$$\n",
    "a_k = \\frac{2}{\\pi}\\int_0^\\pi f(\\cos\\theta)\\cos(k\\theta)d\\theta.\n",
    "$$\n",
    "From this, we get:\n",
    "$$\n",
    "\\int_0^\\pi f(\\cos\\theta)\\sin\\theta d\\theta = a_0 + \\sum_{k=1}^\\infty\\frac{2a_k}{1 - (2k)^2}.\n",
    "$$\n",
    "Now, using the [Nyquist-Shannon sampling theorem](https://en.wikipedia.org/wiki/Nyquist–Shannon_sampling_theorem) from signal processing, we see that we can evaluate the coefficients $a_k$ for $k\\le n$ **exactly** if we evaluate $f(\\cos\\theta)$ at $n+1$ equidistant nodes $\\theta_j = \\frac{j\\pi}{n}, j=0,\\dots,n$. It is:\n",
    "$$\n",
    "a_k = \\frac{2}{n}\\left((-1)^k\\frac{f(-1)}{2} + \\frac{f(1)}{2} + \\sum_{j=1}^{n-1}f\\left(\\cos\\frac{j\\pi}{n}\\right)\\cos\\frac{kj\\pi}{n}\\right).\n",
    "$$\n",
    "So, we see that the nodes are:\n",
    "$$\n",
    "x_j = \\cos\\frac{j\\pi}{n},\n",
    "$$\n",
    "$j=0,1,\\dots,n$ and that they are indeed nested (double $n$).\n",
    "To get the weigths, you re-arrange terms and you try to identify the $w_j$'s.\n",
    "\n",
    "**Note:** Clenshaw-Curtis quadrature integrates exactly polynomials up to degree $n+1$.\n",
    "\n",
    "**Note:** We will only be using the Clenshaw-Curtis quadrature from now on."
   ]
  },
  {
   "cell_type": "code",
   "execution_count": null,
   "metadata": {
    "collapsed": false
   },
   "outputs": [],
   "source": [
    "# The function we will integrate\n",
    "#f = lambda x: np.cos(x * 5)\n",
    "\n",
    "# Pick Newton-Cotes quadrature points\n",
    "fig, ax = plt.subplots()\n",
    "for l in [4, 3, 2, 1]:\n",
    "    X, w = design.sparse_grid(1, l, rule='CC') # CC = Clenshaw-Curtis\n",
    "    ax.plot(X, np.zeros(X.shape[0]), '.')\n",
    "ax.set_xlabel('$x$')\n",
    "ax.set_ylabel('$f(x)$')"
   ]
  },
  {
   "cell_type": "markdown",
   "metadata": {},
   "source": [
    "### Example: Verify that the Legendre Polynomials are Orthogonal\n",
    "\n",
    "Let $X\\sim\\mathcal{U}(-1, 1)$. The orthogonal polynomials in this case are known as the [Laguerre polynomials](https://en.wikipedia.org/wiki/Laguerre_polynomials).\n",
    "They are known analytically.\n",
    "The first few are:\n",
    "$$\n",
    "\\begin{array}{ccc}\n",
    "\\phi_1(x) &=& 1,\\\\\n",
    "\\phi_2(x) &=& x,\\\\\n",
    "\\phi_3(x) &=& \\frac{1}{2}\\left(3x^2 -1\\right).\n",
    "\\end{array}\n",
    "$$\n",
    "\n",
    "We constructed them we ``orthpol`` in the previous handout.\n",
    "Let's verify now that they are also orthogonal by using a CC quadrature rule."
   ]
  },
  {
   "cell_type": "code",
   "execution_count": null,
   "metadata": {
    "collapsed": false
   },
   "outputs": [],
   "source": [
    "# Now, instead of the random variable let's use the the p(x) derectly\n",
    "p = lambda x: 0.5\n",
    "# The maximum polynomial degree you want\n",
    "degree = 4\n",
    "# Construct the orthogonal polynomials\n",
    "Phi_set = orthpol.OrthogonalPolynomial(degree,\n",
    "                                       wf=p,    # The weight function (or pdf)\n",
    "                                       left=-1, # The left bound\n",
    "                                       right=1  # The right bound\n",
    "                                       )\n",
    "\n",
    "# Plot them\n",
    "fig, ax = plt.subplots()\n",
    "# Evaluate the orhtogonal polynomials on all these x's\n",
    "x = np.linspace(-1, 1, 200)\n",
    "phi_x = Phi_set(x)    # 200 x (degree + 1)\n",
    "# Plot each one of them\n",
    "ax.plot(x, phi_x);\n",
    "ax.set_xlabel('$x$')\n",
    "ax.set_ylabel('$\\phi_i(x)$')\n",
    "ax.set_title('$X\\sim\\mathcal{U}(-1, 1)$: Legendre Polynomials')\n",
    "plt.legend(['$\\phi_{%d}(x)$' % i for i in range(1, degree + 1)], loc='best');"
   ]
  },
  {
   "cell_type": "code",
   "execution_count": null,
   "metadata": {
    "collapsed": false
   },
   "outputs": [],
   "source": [
    "X, w = design.sparse_grid(1, 5, 'CC') # w(x) = 1 and x in [-1, 1] for this one\n",
    "w = w / 2.  # We need to normalize the weights\n",
    "phi_q = Phi_set(X)\n",
    "for i in range(phi_q.shape[1]):\n",
    "    for j in range(i, phi_q.shape[1]):\n",
    "        print '<%d, %d> \\t= %1.3f' % (i, j, np.sum(w * phi_q[:, i] * phi_q[:, j]))"
   ]
  },
  {
   "cell_type": "markdown",
   "metadata": {},
   "source": [
    "### Evaluating Arbitrary Expecations with the CC Quadrature Rule\n",
    "\n",
    "The CC rule can only evaluate integrals of the form $\\int_{-1}^1f(x)dx$.\n",
    "Let's see how we can extend it to the evaluation of arbitrary expectations of the form:\n",
    "$$\n",
    "\\mathbb{E}[f(X)]:=\\int_{-\\infty}^\\infty f(x)p(x)dx.\n",
    "$$\n",
    "Let $F(x)$ be the CDF of $p(x)$ and define the transformation:\n",
    "$$\n",
    "z = 2F(x) - 1.\n",
    "$$\n",
    "The inverse, of course, is:\n",
    "$$\n",
    "x = F^{-1}\\left(\\frac{z+1}{2}\\right).\n",
    "$$\n",
    "Notice that $z\\in [-1,1]$.\n",
    "We also have that:\n",
    "$$\n",
    "dz = 2F'(x)dx = 2p(x)dx\n",
    "$$\n",
    "and that as $x\\rightarrow \\pm \\infty$ we get that $z\\rightarrow\\pm 1$.\n",
    "Therefore, we can rewrite the expcation as:\n",
    "$$\n",
    "\\mathbb{E}[f(X)] = \\frac{1}{2}\\int_{-1}^1 f\\left(F^{-1}\\left(\\frac{z+1}{2}\\right)\\right)dz\n",
    "$$\n",
    "Now, if $z_k$ and $v_k$, $k=1,\\dots,n$ are nodes and weights for the common CC rule, we get the following quadrature rule for our special case:\n",
    "$$\n",
    "w_k = \\frac{1}{2}v_k,\n",
    "$$\n",
    "and\n",
    "$$\n",
    "x_k = F^{-1}\\left(\\frac{z_k+1}{2}\\right).\n",
    "$$\n",
    "\n",
    "Let's try it out by testing the Hermite polynomials."
   ]
  },
  {
   "cell_type": "markdown",
   "metadata": {},
   "source": [
    "### Example 1: The Standard Normal and the Hermite Polynomials\n",
    "\n",
    "Let $X\\sim\\mathcal{N}(0,1)$. The orthogonal polynomials in this case are known as the [Hermite polynomials](https://en.wikipedia.org/wiki/Hermite_polynomials).\n",
    "They are known analytically.\n",
    "The first few are:\n",
    "$$\n",
    "\\begin{array}{ccc}\n",
    "\\phi_1(x) &=& 1,\\\\\n",
    "\\phi_2(x) &=& x,\\\\\n",
    "\\phi_3(x) &=& x^2 - 1,\\\\\n",
    "\\phi_4(x) &=& x^3 - 3x,\\\\\n",
    "\\phi_5(x) &=& x^4 - 6x^2 + 3.\n",
    "\\end{array}\n",
    "$$"
   ]
  },
  {
   "cell_type": "code",
   "execution_count": null,
   "metadata": {
    "collapsed": false
   },
   "outputs": [],
   "source": [
    "# The random variable you wish to consider\n",
    "X = st.norm()\n",
    "# The maximum polynomial degree you want\n",
    "degree = 3\n",
    "# Construct the orthogonal polynomials\n",
    "Phi_set = orthpol.OrthogonalPolynomial(degree, X, ncap=1000)\n",
    "\n",
    "# Plot the probability density\n",
    "fig, ax = plt.subplots()\n",
    "x = np.linspace(-3, 3, 200)\n",
    "ax.plot(x, X.pdf(x))\n",
    "ax.set_xlabel('$x$')\n",
    "ax.set_ylabel('$p(x)$')\n",
    "\n",
    "# Plot them\n",
    "fig, ax = plt.subplots()\n",
    "# Evaluate the orhtogonal polynomials on all these x's\n",
    "phi_x = Phi_set(x)    # 200 x (degree + 1)\n",
    "# Plot each one of them\n",
    "ax.plot(x, phi_x);\n",
    "ax.set_xlabel('$x$')\n",
    "ax.set_ylabel('$\\phi_i(x)$')\n",
    "ax.set_title('$X\\sim\\mathcal{N}(0,1)$: Hermite Polynomials')\n",
    "plt.legend(['$\\phi_{%d}(x)$' % i for i in range(0, degree + 1)], loc='best');"
   ]
  },
  {
   "cell_type": "code",
   "execution_count": null,
   "metadata": {
    "collapsed": false
   },
   "outputs": [],
   "source": [
    "Z, v = design.sparse_grid(1, 8, 'F1') # We do not use CC because it is closed (includes -1, 1) - Fejer 1 is open\n",
    "X = st.norm.ppf(0.5 * (Z + 1.))\n",
    "w = v / 2\n",
    "phi_q = Phi_set(X)\n",
    "for i in range(phi_q.shape[1]):\n",
    "    for j in range(i, phi_q.shape[1]):\n",
    "        print '<%d, %d> \\t= %1.3f' % (i, j, np.sum(w * phi_q[:, i] * phi_q[:, j]))"
   ]
  },
  {
   "cell_type": "markdown",
   "metadata": {},
   "source": [
    "### Example 2: The Exponential and the Laguerre Polynomials\n",
    "\n",
    "Let $X\\sim\\mathcal{E}(1)$. The orthogonal polynomials in this case are known as the [Laguerre polynomials](https://en.wikipedia.org/wiki/Laguerre_polynomials).\n",
    "They are known analytically.\n",
    "The first few are:\n",
    "$$\n",
    "\\begin{array}{ccc}\n",
    "\\phi_1(x) &=& 1,\\\\\n",
    "\\phi_2(x) &=& -x + 1,\\\\\n",
    "\\phi_3(x) &=& \\frac{1}{2}\\left(x^2 - 4x + 2\\right).\n",
    "\\end{array}\n",
    "$$"
   ]
  },
  {
   "cell_type": "code",
   "execution_count": null,
   "metadata": {
    "collapsed": false
   },
   "outputs": [],
   "source": [
    "# The random variable you wish to consider\n",
    "X = st.expon()\n",
    "# The maximum polynomial degree you want\n",
    "degree = 3\n",
    "# Construct the orthogonal polynomials\n",
    "Phi_set = orthpol.OrthogonalPolynomial(degree, X)\n",
    "\n",
    "# Plot the probability density\n",
    "fig, ax = plt.subplots()\n",
    "x = np.linspace(0, 5, 200)\n",
    "ax.plot(x, X.pdf(x))\n",
    "ax.set_xlabel('$x$')\n",
    "ax.set_ylabel('$p(x)$')\n",
    "\n",
    "# Plot them\n",
    "fig, ax = plt.subplots()\n",
    "# Evaluate the orhtogonal polynomials on all these x's\n",
    "phi_x = Phi_set(x)    # 200 x (degree + 1)\n",
    "# Plot each one of them\n",
    "ax.plot(x, phi_x);\n",
    "ax.set_xlabel('$x$')\n",
    "ax.set_ylabel('$\\phi_i(x)$')\n",
    "ax.set_title('$X\\sim\\mathcal{E}(1)$: Laguerre Polynomials')\n",
    "plt.legend(['$\\phi_{%d}(x)$' % i for i in range(1, degree + 1)], loc='best');"
   ]
  },
  {
   "cell_type": "code",
   "execution_count": null,
   "metadata": {
    "collapsed": false,
    "scrolled": true
   },
   "outputs": [],
   "source": [
    "Z, v = design.sparse_grid(1, 9, 'F1') # Again F1 isntead of CC\n",
    "w = v / 2.\n",
    "X = st.expon.ppf(0.5 * (Z + 1.))\n",
    "phi_q = Phi_set(X)\n",
    "for i in range(phi_q.shape[1]):\n",
    "    for j in range(i, phi_q.shape[1]):\n",
    "        print '<%d, %d> \\t= %1.3f' % (i, j, np.sum(w * phi_q[:, i] * phi_q[:, j]))"
   ]
  },
  {
   "cell_type": "markdown",
   "metadata": {},
   "source": [
    "## Example 4: We can do it for any probability density\n",
    "\n",
    "We can construct orthonormal for any random variable $X$.\n",
    "Let's do it for a mixture of Gaussians:\n",
    "$$\n",
    "p(x) = \\pi_1 \\mathcal{N}(x|\\mu_1,\\sigma_1^2) + \\pi_2\\mathcal{N}(x|\\mu_2,\\sigma_2^2),\n",
    "$$\n",
    "for $\\pi_1 + \\pi_2 = 1$."
   ]
  },
  {
   "cell_type": "code",
   "execution_count": null,
   "metadata": {
    "collapsed": false
   },
   "outputs": [],
   "source": [
    "# The random variable you wish to consider\n",
    "X1 = st.norm(loc=-1, scale=0.4)\n",
    "pi_1 = 0.2\n",
    "X2 = st.norm(loc=+1, scale=0.4)\n",
    "pi_2 = 0.8\n",
    "\n",
    "p = lambda x: pi_1 * X1.pdf(x) + pi_2 * X2.pdf(x)\n",
    "\n",
    "class MGRV(st.rv_continuous):\n",
    "    \n",
    "    def _pdf(self, x):\n",
    "        return p(x)\n",
    "\n",
    "mgrv = MGRV()\n",
    "    \n",
    "# The maximum polynomial degree you want\n",
    "degree = 5\n",
    "# Construct the orthogonal polynomials\n",
    "Phi_set = orthpol.OrthogonalPolynomial(degree, wf=mgrv.pdf, left=-np.inf, right=np.inf, ncap=5000)\n",
    "Phi_set.normalize()\n",
    "\n",
    "# Plot the probability density\n",
    "fig, ax = plt.subplots()\n",
    "x = np.linspace(-2, 2, 200)\n",
    "ax.plot(x, mgrv.pdf(x))\n",
    "ax.set_xlabel('$x$')\n",
    "ax.set_ylabel('$p(x)$')\n",
    "\n",
    "# Plot them\n",
    "fig, ax = plt.subplots()\n",
    "# Evaluate the orhtogonal polynomials on all these x's\n",
    "phi_x = Phi_set(x)    # 200 x (degree + 1)\n",
    "# Plot each one of them\n",
    "ax.plot(x, phi_x);\n",
    "ax.set_xlabel('$x$')\n",
    "ax.set_ylabel('$\\phi_i(x)$')\n",
    "ax.set_title('$X\\sim\\sum_i\\pi_i\\mathcal{N}(\\mu_i,\\sigma_i)$: Whatever Polynomials')\n",
    "plt.legend(['$\\phi_{%d}(x)$' % i for i in range(0, degree + 1)], loc='best');"
   ]
  },
  {
   "cell_type": "code",
   "execution_count": null,
   "metadata": {
    "collapsed": false
   },
   "outputs": [],
   "source": [
    "# For this one we need a quadrature rule in (-infty, +infty) with w(x) = the pdf of the mixture\n",
    "# Let's use a rule in (-1, 1) (the rule is open if the boundaries are not included) and transform it to (-infty, infty)\n",
    "Z, v = design.sparse_grid(1, 5, 'F1') # Fejer 2, open, fully nested, w(x) = 1 and x in (-1, 1)\n",
    "X = mgrv.ppf(0.5 * (Z + 1))\n",
    "w = v / 2.\n",
    "\n",
    "#X = st.norm.ppf(0.5 * (Z + 1))\n",
    "#w = v / (2. * st.norm.pdf(X)) * p(X)\n",
    "plt.plot(X, np.zeros(X.shape[0], ), '.')\n",
    "plt.plot(x, mgrv.pdf(x))\n",
    "\n",
    "#help(st.norm.ppf)\n",
    "#w = w / 2.  # We need to normalize the weights\n",
    "phi_q = Phi_set(X)\n",
    "for i in range(phi_q.shape[1]):\n",
    "    for j in range(i, phi_q.shape[1]):\n",
    "        print '<%d, %d> \\t= %1.3f' % (i, j, np.sum(w * phi_q[:, i] * phi_q[:, j]))"
   ]
  },
  {
   "cell_type": "markdown",
   "metadata": {},
   "source": [
    "### More 1D Quadrature Rules\n",
    "\n",
    "There are many more quadrature rules with various properties.\n",
    "Some of the ones you can use from ``py-design`` are described [here](http://people.sc.fsu.edu/~jburkardt/f_src/sparse_grid_mixed_dataset/sparse_grid_mixed_dataset.html):"
   ]
  },
  {
   "cell_type": "code",
   "execution_count": null,
   "metadata": {
    "collapsed": false
   },
   "outputs": [],
   "source": [
    "help(design.sparse_grid)"
   ]
  },
  {
   "cell_type": "markdown",
   "metadata": {},
   "source": [
    "## Quadrature Rules in High-Dimensions\n",
    "\n",
    "\n",
    "### Tensor Products of Quadrature Rules\n",
    "The simplest approach to create high-dimensional quadrature rules is to take the tensor product of 1D ones.\n",
    "For example, suppose you have a quadrature rule in 1D:\n",
    "$$\n",
    "Q^{(1)}(f) = \\sum_{k=1}^n w_k f(x_k).\n",
    "$$\n",
    "The *tensor* product of $Q^{(1)}$ with itself is the 2D quadrature rule:\n",
    "$$\n",
    "Q^{(2)} = Q^{(1)}\\otimes Q^{(1)}\n",
    "$$\n",
    "defined by:\n",
    "$$\n",
    "Q^{(2)}(f) = \\left(Q^{(1)}\\otimes Q^{(1)}\\right)(f) = \\sum_{i=1}^n\\sum_{j=1}^n w_i w_j f(x_i, x_j).\n",
    "$$\n",
    "The tensor product can be generalized between any two quadrature rules in arbitrary dimensions.\n",
    "\n",
    "**Note:** The number of nodes in the tensor product of two quadrature rules grows exponential with the dimensionality (*curse of dimensionality*)."
   ]
  },
  {
   "cell_type": "code",
   "execution_count": null,
   "metadata": {
    "collapsed": false
   },
   "outputs": [],
   "source": [
    "from itertools import izip\n",
    "\n",
    "level = 4\n",
    "Z, v = design.sparse_grid(1, level, 'CC')\n",
    "\n",
    "# Make the tensor rule\n",
    "nq = Z.shape[0]\n",
    "Z21, Z22 = np.meshgrid(Z, Z)\n",
    "Z2 = np.hstack([Z21.flatten()[:, None], Z22.flatten()[:, None]])\n",
    "\n",
    "# Plot it\n",
    "fig, ax = plt.subplots()\n",
    "ax.plot(Z2[:, 0], Z2[:, 1], '.')\n",
    "ax.set_title('Tensor Product Rule')\n",
    "ax.set_xlabel('$x_1$')\n",
    "ax.set_ylabel('$x_2$');"
   ]
  },
  {
   "cell_type": "markdown",
   "metadata": {},
   "source": [
    "### Sparse Grid Quadrature\n",
    "\n",
    "You can build a sparse grid (SG) quadrature out of any 1D quadrature rule $Q_\\ell^{(1)}$ of level $\\ell$.\n",
    "The only restriction is that $Q_\\ell^{(1)}$ must be nested, in the sense that all that nodes that are in $Q_{\\ell}^{(1)}$ must be included in $Q_{\\ell+1}^{(1)}$.\n",
    "The whole point is to get a rule in which the number of nodes does not grow as fast as in a tensor product.\n",
    "\n",
    "The construction of high-dimensional sparse grids is given by the *Smolyak quadrature formula*:\n",
    "$$\n",
    "Q_\\ell^{(d)}(f) := \\left(\\sum_{i=1}^\\ell\\left(Q_i^{(1)} - Q_{i-1}^{(1)}\\right)\\otimes Q_{\\ell-i+1}^{(d-1)}\\right)(f).\n",
    "$$\n",
    "Understanding this formula is beyond what we want to do.\n",
    "Let's just look at how sparse grids look like."
   ]
  },
  {
   "cell_type": "code",
   "execution_count": null,
   "metadata": {
    "collapsed": false
   },
   "outputs": [],
   "source": [
    "fig, ax = plt.subplots()\n",
    "level = 6\n",
    "count = 0\n",
    "for i in range(level):\n",
    "    Z, v = design.sparse_grid(2, i, 'CC')\n",
    "    ax.plot(Z[count:, 0], Z[count:, 1], '.', color=sns.color_palette()[i], label='$L=%d$' % (i + 1))\n",
    "    count = Z.shape[0]\n",
    "ax.set_xlabel('$x_1$')\n",
    "ax.set_ylabel('$x_2$')\n",
    "ax.set_title('Max level = %d' % level);\n",
    "#plt.legend(loc='best');"
   ]
  },
  {
   "cell_type": "markdown",
   "metadata": {},
   "source": [
    "Sparse grids grow much slower than tensor products. See below how the number of nodes grows as a function of the space dimensionality."
   ]
  },
  {
   "cell_type": "code",
   "execution_count": null,
   "metadata": {
    "collapsed": false
   },
   "outputs": [],
   "source": [
    "fig, ax = plt.subplots()\n",
    "max_dim = 20\n",
    "for level in range(1, 3):\n",
    "    Z1, _ = design.sparse_grid(1, level, 'CC')\n",
    "    sparse_grid_num_nodes = []\n",
    "    tensor_num_nodes = []\n",
    "    for d in range(1, max_dim + 1):\n",
    "        Z, _ = design.sparse_grid(d, level, 'CC')\n",
    "        sparse_grid_num_nodes.append(Z.shape[0])\n",
    "        tensor_num_nodes.append(Z1.shape[0] ** d)\n",
    "    ax.semilogy(range(1, max_dim + 1), sparse_grid_num_nodes, '-.', label='Sparse grid ($L=%d$)' % level)\n",
    "    ax.semilogy(range(1, max_dim + 1), tensor_num_nodes, '--.', label='Tensor product ($L=%d)$' % level)\n",
    "ax.set_xlabel('$d$')\n",
    "ax.set_ylabel('Number of quadrature points')\n",
    "plt.legend(loc='best');"
   ]
  },
  {
   "cell_type": "markdown",
   "metadata": {},
   "source": [
    "## Example 5: Multidimensional Orthogonal Polynomials\n",
    "\n",
    "Let's construct orthogonal polynomials for a random vector:\n",
    "$$\n",
    "X = (X_1,X_2),\n",
    "$$\n",
    "where\n",
    "$$\n",
    "X_1\\sim\\mathcal{U}(-1,1),\n",
    "$$\n",
    "and\n",
    "$$\n",
    "X_2\\sim\\mathcal{U}(-1, 1).\n",
    "$$"
   ]
  },
  {
   "cell_type": "code",
   "execution_count": null,
   "metadata": {
    "collapsed": false
   },
   "outputs": [],
   "source": [
    "X1 = st.uniform(loc=-1, scale=2)\n",
    "X2 = st.uniform(loc=-1, scale=2)\n",
    "X = (X1, X2)\n",
    "dim = len(X)\n",
    "\n",
    "# The maximum polynomial degree you want\n",
    "degree = 4\n",
    "# Construct the orthogonal polynomials - See documentation for more ways to do create\n",
    "# multi-dimensional polynomials\n",
    "Phi_set = orthpol.ProductBasis(X, degree=degree)\n",
    "\n",
    "Z, v = design.sparse_grid(dim, 4, 'CC') # Gauss-Hermite which uses w(x) = e^{-x^T x} - need to scale:\n",
    "X = Z\n",
    "w = v / (2 ** dim)\n",
    "\n",
    "phi_q = Phi_set(Z)\n",
    "for i in range(phi_q.shape[1]):\n",
    "    for j in range(i, phi_q.shape[1]):\n",
    "        print '<%d, %d>\\t= %1.2f' % (i, j, np.sum(w * phi_q[:, i] * phi_q[:, j]))"
   ]
  },
  {
   "cell_type": "markdown",
   "metadata": {},
   "source": [
    "## Example 6: Multidimensional Orthogonal Polynomials\n",
    "\n",
    "Let's construct orthogonal polynomials for a random vector:\n",
    "$$\n",
    "X = (X_1,X_2),\n",
    "$$\n",
    "where\n",
    "$$\n",
    "X_1\\sim\\mathcal{N}(0,1),\n",
    "$$\n",
    "and\n",
    "$$\n",
    "X_2\\sim\\mathcal{N}(0, 1).\n",
    "$$"
   ]
  },
  {
   "cell_type": "code",
   "execution_count": null,
   "metadata": {
    "collapsed": false
   },
   "outputs": [],
   "source": [
    "X1 = st.norm()\n",
    "X2 = st.norm()\n",
    "X = (X1, X2)\n",
    "dim = len(X)\n",
    "\n",
    "# The maximum polynomial degree you want\n",
    "degree = 4\n",
    "# Construct the orthogonal polynomials - See documentation for more ways to do create\n",
    "# multi-dimensional polynomials\n",
    "Phi_set = orthpol.ProductBasis(X, degree=degree)\n",
    "\n",
    "Z, v = design.sparse_grid(2, 5, 'GH') # Gauss-Hermite which uses w(x) = e^{-x^T x} - need to scale:\n",
    "X = Z * np.sqrt(2.)\n",
    "w = v / np.sqrt(np.pi ** dim)\n",
    "\n",
    "phi_q = Phi_set(X)\n",
    "for i in range(phi_q.shape[1]):\n",
    "    for j in range(i, phi_q.shape[1]):\n",
    "        print '<%d, %d>\\t= %1.2f' % (i, j, np.sum(w * phi_q[:, i] * phi_q[:, j]))"
   ]
  }
 ],
 "metadata": {
  "anaconda-cloud": {},
  "kernelspec": {
   "display_name": "Python [default]",
   "language": "python",
   "name": "python2"
  },
  "language_info": {
   "codemirror_mode": {
    "name": "ipython",
    "version": 2
   },
   "file_extension": ".py",
   "mimetype": "text/x-python",
   "name": "python",
   "nbconvert_exporter": "python",
   "pygments_lexer": "ipython2",
   "version": "2.7.14"
  },
  "latex_envs": {
   "bibliofile": "biblio.bib",
   "cite_by": "apalike",
   "current_citInitial": 1,
   "eqLabelWithNumbers": true,
   "eqNumInitial": 0
  }
 },
 "nbformat": 4,
 "nbformat_minor": 1
}
